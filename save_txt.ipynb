{
 "cells": [
  {
   "cell_type": "code",
   "execution_count": 1,
   "id": "4e509af0-0519-48f2-ad0f-74cdb0eff51d",
   "metadata": {},
   "outputs": [],
   "source": [
    "import os\n",
    "import random\n",
    "from fractions import Fraction"
   ]
  },
  {
   "cell_type": "code",
   "execution_count": 2,
   "id": "0cceb5da-7fc8-4695-8350-6b3f965b490a",
   "metadata": {},
   "outputs": [],
   "source": [
    "#把训练集和测试集分为6:1（比例同原始数据集比例）\n",
    "train_ratio = Fraction(6, 7)\n",
    "test_ratio = 1 - train_ratio\n",
    "rootdata = 'autodl-tmp/testcases/fashion/lenet1'\n",
    "train_list, test_list = [], []\n",
    "\n",
    "data_list = []\n",
    "\n",
    "#图片的标签\n",
    "class_flag = -1\n",
    "\n",
    "for root, dirs, files in os.walk(rootdata):\n",
    "    if '.ipynb_checkpoints' in root:\n",
    "        continue\n",
    "    for i in range(len(files)):\n",
    "        data_list.append(os.path.join(root, files[i]))\n",
    "\n",
    "    for i in range(0, int(len(files) * train_ratio)):\n",
    "        if class_flag == -1:\n",
    "            continue\n",
    "        train_data = os.path.join(root, files[i]) + '\\t' + str(class_flag) + '\\n'\n",
    "        train_list.append(train_data)\n",
    "\n",
    "    for i in range(int(len(files) * train_ratio), len(files)):\n",
    "        if class_flag == -1:\n",
    "            continue\n",
    "        test_data = os.path.join(root, files[i]) + '\\t' + str(class_flag) + '\\n'\n",
    "        test_list.append(test_data)\n",
    "\n",
    "    class_flag += 1\n",
    "# print(data_list)"
   ]
  },
  {
   "cell_type": "code",
   "execution_count": 3,
   "id": "79ae20b8-ea8f-4a85-8f5f-9a114a8288a1",
   "metadata": {},
   "outputs": [],
   "source": [
    "random.shuffle(train_list)\n",
    "random.shuffle(test_list)"
   ]
  },
  {
   "cell_type": "code",
   "execution_count": 4,
   "id": "275647d8-cd37-40a0-8533-039383f83ab8",
   "metadata": {},
   "outputs": [],
   "source": [
    "# 保存到txt\n",
    "with open(rootdata + '/train.txt', 'w', encoding='UTF-8') as f:\n",
    "    for train in train_list:\n",
    "        f.write(train)\n",
    "\n",
    "with open(rootdata + '/test.txt', 'w', encoding='UTF-8') as f:\n",
    "    for test in test_list:\n",
    "        f.write(test)"
   ]
  },
  {
   "cell_type": "code",
   "execution_count": null,
   "id": "e85c26e7-45df-474c-83d6-602bb0bd5667",
   "metadata": {},
   "outputs": [],
   "source": []
  }
 ],
 "metadata": {
  "kernelspec": {
   "display_name": "Python 3 (ipykernel)",
   "language": "python",
   "name": "python3"
  },
  "language_info": {
   "codemirror_mode": {
    "name": "ipython",
    "version": 3
   },
   "file_extension": ".py",
   "mimetype": "text/x-python",
   "name": "python",
   "nbconvert_exporter": "python",
   "pygments_lexer": "ipython3",
   "version": "3.8.10"
  }
 },
 "nbformat": 4,
 "nbformat_minor": 5
}
