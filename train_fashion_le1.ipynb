{
 "cells": [
  {
   "cell_type": "code",
   "execution_count": 1,
   "id": "8c20634a-07bc-413b-bb72-7e983db93cd7",
   "metadata": {},
   "outputs": [],
   "source": [
    "from models.mnist_classifier.lenet import LeNet5, LeNet1\n",
    "import torch\n",
    "import torch.nn as nn\n",
    "import torch.optim as optim\n",
    "from torchvision.datasets.mnist import MNIST\n",
    "from torchvision.datasets import FashionMNIST\n",
    "import torchvision.transforms as transforms\n",
    "from torch.utils.data import DataLoader, Dataset, TensorDataset, ConcatDataset\n",
    "import random\n",
    "import os\n",
    "from  PIL import Image\n",
    "from torch.utils.data import DataLoader\n",
    "import matplotlib.pyplot as plt\n",
    "from torchvision import transforms,utils,datasets\n",
    "import numpy as np\n",
    "from torch import optim\n",
    "import time\n",
    "import torchvision.models as models\n",
    "from pylab import *\n",
    "\n",
    "device = \"cuda:0\" if torch.cuda.is_available() else \"cpu\""
   ]
  },
  {
   "cell_type": "code",
   "execution_count": 3,
   "id": "7e567f9b-844e-4687-be13-b7329b8fa6d6",
   "metadata": {},
   "outputs": [
    {
     "name": "stdout",
     "output_type": "stream",
     "text": [
      "Downloading http://yann.lecun.com/exdb/mnist/train-images-idx3-ubyte.gz\n",
      "Downloading http://yann.lecun.com/exdb/mnist/train-images-idx3-ubyte.gz to ./autodl-tmp/fashion-mnist/MNIST/raw/train-images-idx3-ubyte.gz\n"
     ]
    },
    {
     "data": {
      "application/vnd.jupyter.widget-view+json": {
       "model_id": "3b51a4a1bb014dd7b29a9f214a993798",
       "version_major": 2,
       "version_minor": 0
      },
      "text/plain": [
       "  0%|          | 0/9912422 [00:00<?, ?it/s]"
      ]
     },
     "metadata": {},
     "output_type": "display_data"
    },
    {
     "name": "stdout",
     "output_type": "stream",
     "text": [
      "Extracting ./autodl-tmp/fashion-mnist/MNIST/raw/train-images-idx3-ubyte.gz to ./autodl-tmp/fashion-mnist/MNIST/raw\n",
      "\n",
      "Downloading http://yann.lecun.com/exdb/mnist/train-labels-idx1-ubyte.gz\n",
      "Downloading http://yann.lecun.com/exdb/mnist/train-labels-idx1-ubyte.gz to ./autodl-tmp/fashion-mnist/MNIST/raw/train-labels-idx1-ubyte.gz\n"
     ]
    },
    {
     "data": {
      "application/vnd.jupyter.widget-view+json": {
       "model_id": "8091fca49c6a4d28b0f81005150f9304",
       "version_major": 2,
       "version_minor": 0
      },
      "text/plain": [
       "  0%|          | 0/28881 [00:00<?, ?it/s]"
      ]
     },
     "metadata": {},
     "output_type": "display_data"
    },
    {
     "name": "stdout",
     "output_type": "stream",
     "text": [
      "Extracting ./autodl-tmp/fashion-mnist/MNIST/raw/train-labels-idx1-ubyte.gz to ./autodl-tmp/fashion-mnist/MNIST/raw\n",
      "\n",
      "Downloading http://yann.lecun.com/exdb/mnist/t10k-images-idx3-ubyte.gz\n",
      "Downloading http://yann.lecun.com/exdb/mnist/t10k-images-idx3-ubyte.gz to ./autodl-tmp/fashion-mnist/MNIST/raw/t10k-images-idx3-ubyte.gz\n"
     ]
    },
    {
     "data": {
      "application/vnd.jupyter.widget-view+json": {
       "model_id": "b7bbe5a2c7704e7c96c6ff00a2cd6e07",
       "version_major": 2,
       "version_minor": 0
      },
      "text/plain": [
       "  0%|          | 0/1648877 [00:00<?, ?it/s]"
      ]
     },
     "metadata": {},
     "output_type": "display_data"
    },
    {
     "name": "stdout",
     "output_type": "stream",
     "text": [
      "Extracting ./autodl-tmp/fashion-mnist/MNIST/raw/t10k-images-idx3-ubyte.gz to ./autodl-tmp/fashion-mnist/MNIST/raw\n",
      "\n",
      "Downloading http://yann.lecun.com/exdb/mnist/t10k-labels-idx1-ubyte.gz\n",
      "Downloading http://yann.lecun.com/exdb/mnist/t10k-labels-idx1-ubyte.gz to ./autodl-tmp/fashion-mnist/MNIST/raw/t10k-labels-idx1-ubyte.gz\n"
     ]
    },
    {
     "data": {
      "application/vnd.jupyter.widget-view+json": {
       "model_id": "7cf124d3f9594366bcc7131ce47f4194",
       "version_major": 2,
       "version_minor": 0
      },
      "text/plain": [
       "  0%|          | 0/4542 [00:00<?, ?it/s]"
      ]
     },
     "metadata": {},
     "output_type": "display_data"
    },
    {
     "name": "stdout",
     "output_type": "stream",
     "text": [
      "Extracting ./autodl-tmp/fashion-mnist/MNIST/raw/t10k-labels-idx1-ubyte.gz to ./autodl-tmp/fashion-mnist/MNIST/raw\n",
      "\n"
     ]
    }
   ],
   "source": [
    "data_root = './autodl-tmp/fashion-mnist'\n",
    "data_train = MNIST(data_root,\n",
    "                   train=True,\n",
    "                   download=True,\n",
    "                   transform=transforms.Compose([\n",
    "                       transforms.Resize((28, 28)),\n",
    "                       transforms.ToTensor(),\n",
    "                       transforms.Normalize((0.5,), (0.5,))]))\n",
    "data_test = MNIST(data_root,\n",
    "                  train=False,\n",
    "                  download=True,\n",
    "                  transform=transforms.Compose([\n",
    "                       transforms.Resize((28, 28)),\n",
    "                       transforms.ToTensor(),\n",
    "                       transforms.Normalize((0.5,), (0.5,))]))"
   ]
  },
  {
   "cell_type": "code",
   "execution_count": 4,
   "id": "5b227cb7-a2ea-4996-b87b-8bb4137bd5f9",
   "metadata": {},
   "outputs": [
    {
     "data": {
      "text/plain": [
       "60000"
      ]
     },
     "execution_count": 4,
     "metadata": {},
     "output_type": "execute_result"
    }
   ],
   "source": [
    "len(data_train)"
   ]
  },
  {
   "cell_type": "code",
   "execution_count": 5,
   "id": "a013c3dd-8f6f-4e21-88d9-dade90d4e1ce",
   "metadata": {},
   "outputs": [],
   "source": [
    "data_train_loader = DataLoader(data_train, batch_size=256, shuffle=True, num_workers=8)\n",
    "data_test_loader = DataLoader(data_test, batch_size=256, num_workers=8)"
   ]
  },
  {
   "cell_type": "code",
   "execution_count": 6,
   "id": "387bb33e-963e-42a8-b5e9-cb69958fb85b",
   "metadata": {},
   "outputs": [],
   "source": [
    "net = LeNet1().to(device)\n",
    "criterion = nn.CrossEntropyLoss()\n",
    "optimizer = optim.Adam(net.parameters(), lr=1e-4)  #学习率，太高如2e-3会立马收敛，cagfuzz里设置为0.05"
   ]
  },
  {
   "cell_type": "code",
   "execution_count": 7,
   "id": "82dea706-b013-49f2-8d27-98497e8d8d2b",
   "metadata": {},
   "outputs": [],
   "source": [
    "epoch = 100"
   ]
  },
  {
   "cell_type": "code",
   "execution_count": 8,
   "id": "ffc6a560-0250-43cc-baf3-11bedd3036f5",
   "metadata": {},
   "outputs": [],
   "source": [
    "def train(epoch):\n",
    "    global cur_batch_win\n",
    "    net.train()\n",
    "    loss_list, batch_list = [], []\n",
    "    total_correct = 0\n",
    "    for i, (images, labels) in enumerate(data_train_loader):\n",
    "        images = images.to(device)\n",
    "        labels = labels.to(device)\n",
    "        optimizer.zero_grad()\n",
    "        output = net(images)\n",
    "        loss = criterion(output, labels)\n",
    "        loss_list.append(loss.detach().cpu().item())\n",
    "        batch_list.append(i+1)\n",
    "        pred = output.detach().max(1)[1]\n",
    "        total_correct += pred.eq(labels.view_as(pred)).sum()\n",
    "        # if i % 10 == 0:\n",
    "            # print('Train - Epoch %d, Batch: %d, Loss: %f' % (epoch, i, loss.detach().cpu().item()))\n",
    "        loss.backward()\n",
    "        optimizer.step()\n",
    "    avg_loss = sum(loss_list) / len(loss_list)\n",
    "    acc = float(total_correct) / len(data_train)\n",
    "    print('Train Avg. Loss: %f, Accuracy: %f' % (avg_loss, acc))\n",
    "    return acc, avg_loss"
   ]
  },
  {
   "cell_type": "code",
   "execution_count": 9,
   "id": "238f212b-8338-434c-9010-01563b6fa39a",
   "metadata": {},
   "outputs": [],
   "source": [
    "def test():\n",
    "    net.eval()\n",
    "    batch_list = []\n",
    "    with torch.no_grad():\n",
    "        total_correct = 0\n",
    "        avg_loss = 0.0\n",
    "        for i, (images, labels) in enumerate(data_test_loader):\n",
    "            images = images.to(device)\n",
    "            labels = labels.to(device)\n",
    "            output = net(images)\n",
    "            avg_loss += criterion(output, labels).sum()\n",
    "            pred = output.detach().max(1)[1]\n",
    "            total_correct += pred.eq(labels.view_as(pred)).sum()\n",
    "            batch_list.append(i+1)\n",
    "\n",
    "    avg_loss /= batch_list[-1]\n",
    "    avg_loss = avg_loss.detach().cpu().item()\n",
    "    acc = float(total_correct) / len(data_test)\n",
    "    print('Test Avg. Loss: %f, Accuracy: %f' % (avg_loss, acc))\n",
    "    return acc, avg_loss"
   ]
  },
  {
   "cell_type": "code",
   "execution_count": 10,
   "id": "9aa3c7e9-5a1a-43f0-9d5f-8da1671f6991",
   "metadata": {},
   "outputs": [],
   "source": [
    "def train_and_test(epoch):\n",
    "    print('training...')\n",
    "    acc, loss = train(epoch)\n",
    "    val_acc, val_loss = test()\n",
    "    return acc, loss, val_acc, val_loss"
   ]
  },
  {
   "cell_type": "code",
   "execution_count": 11,
   "id": "923c79a2-ff0c-42cb-8b61-d30fa9412b2a",
   "metadata": {},
   "outputs": [
    {
     "name": "stdout",
     "output_type": "stream",
     "text": [
      "training...\n",
      "Train Avg. Loss: 2.046956, Accuracy: 0.378067\n",
      "Test Avg. Loss: 1.653227, Accuracy: 0.665600\n",
      "lenet_epoch=0 test_acc=0.666\n",
      "training...\n",
      "Train Avg. Loss: 1.310993, Accuracy: 0.730133\n",
      "Test Avg. Loss: 1.004404, Accuracy: 0.788300\n",
      "lenet_epoch=1 test_acc=0.788\n",
      "training...\n",
      "Train Avg. Loss: 0.876230, Accuracy: 0.799200\n",
      "Test Avg. Loss: 0.723990, Accuracy: 0.833500\n",
      "lenet_epoch=2 test_acc=0.834\n",
      "training...\n",
      "Train Avg. Loss: 0.677592, Accuracy: 0.834883\n",
      "Test Avg. Loss: 0.583720, Accuracy: 0.857600\n",
      "lenet_epoch=3 test_acc=0.858\n",
      "training...\n",
      "Train Avg. Loss: 0.571006, Accuracy: 0.854317\n",
      "Test Avg. Loss: 0.502718, Accuracy: 0.871600\n",
      "lenet_epoch=4 test_acc=0.872\n",
      "training...\n",
      "Train Avg. Loss: 0.505257, Accuracy: 0.866867\n",
      "Test Avg. Loss: 0.449647, Accuracy: 0.881100\n",
      "lenet_epoch=5 test_acc=0.881\n",
      "training...\n",
      "Train Avg. Loss: 0.459971, Accuracy: 0.876100\n",
      "Test Avg. Loss: 0.412319, Accuracy: 0.887900\n",
      "lenet_epoch=6 test_acc=0.888\n",
      "training...\n",
      "Train Avg. Loss: 0.427012, Accuracy: 0.883183\n",
      "Test Avg. Loss: 0.383471, Accuracy: 0.895000\n",
      "lenet_epoch=7 test_acc=0.895\n",
      "training...\n",
      "Train Avg. Loss: 0.400355, Accuracy: 0.888600\n",
      "Test Avg. Loss: 0.360369, Accuracy: 0.902000\n",
      "lenet_epoch=8 test_acc=0.902\n",
      "training...\n",
      "Train Avg. Loss: 0.378944, Accuracy: 0.893700\n",
      "Test Avg. Loss: 0.341893, Accuracy: 0.907100\n",
      "lenet_epoch=9 test_acc=0.907\n",
      "training...\n",
      "Train Avg. Loss: 0.361510, Accuracy: 0.898100\n",
      "Test Avg. Loss: 0.324900, Accuracy: 0.910800\n",
      "lenet_epoch=10 test_acc=0.911\n",
      "training...\n",
      "Train Avg. Loss: 0.345073, Accuracy: 0.901933\n",
      "Test Avg. Loss: 0.310892, Accuracy: 0.913700\n",
      "lenet_epoch=11 test_acc=0.914\n",
      "training...\n",
      "Train Avg. Loss: 0.331161, Accuracy: 0.906400\n",
      "Test Avg. Loss: 0.297968, Accuracy: 0.916900\n",
      "lenet_epoch=12 test_acc=0.917\n",
      "training...\n",
      "Train Avg. Loss: 0.318704, Accuracy: 0.909550\n",
      "Test Avg. Loss: 0.286295, Accuracy: 0.918800\n",
      "lenet_epoch=13 test_acc=0.919\n",
      "training...\n",
      "Train Avg. Loss: 0.307168, Accuracy: 0.912767\n",
      "Test Avg. Loss: 0.275630, Accuracy: 0.922200\n",
      "lenet_epoch=14 test_acc=0.922\n",
      "training...\n",
      "Train Avg. Loss: 0.296701, Accuracy: 0.916200\n",
      "Test Avg. Loss: 0.265756, Accuracy: 0.925000\n",
      "lenet_epoch=15 test_acc=0.925\n",
      "training...\n",
      "Train Avg. Loss: 0.286904, Accuracy: 0.919117\n",
      "Test Avg. Loss: 0.256970, Accuracy: 0.926700\n",
      "lenet_epoch=16 test_acc=0.927\n",
      "training...\n",
      "Train Avg. Loss: 0.277298, Accuracy: 0.921383\n",
      "Test Avg. Loss: 0.248431, Accuracy: 0.928500\n",
      "lenet_epoch=17 test_acc=0.928\n",
      "training...\n",
      "Train Avg. Loss: 0.268533, Accuracy: 0.923800\n",
      "Test Avg. Loss: 0.241091, Accuracy: 0.931200\n",
      "lenet_epoch=18 test_acc=0.931\n",
      "training...\n",
      "Train Avg. Loss: 0.260688, Accuracy: 0.925967\n",
      "Test Avg. Loss: 0.233638, Accuracy: 0.933000\n",
      "lenet_epoch=19 test_acc=0.933\n",
      "training...\n",
      "Train Avg. Loss: 0.252868, Accuracy: 0.928183\n",
      "Test Avg. Loss: 0.226758, Accuracy: 0.934500\n",
      "lenet_epoch=20 test_acc=0.934\n",
      "training...\n",
      "Train Avg. Loss: 0.245820, Accuracy: 0.930533\n",
      "Test Avg. Loss: 0.220085, Accuracy: 0.936100\n",
      "lenet_epoch=21 test_acc=0.936\n",
      "training...\n",
      "Train Avg. Loss: 0.238459, Accuracy: 0.932283\n",
      "Test Avg. Loss: 0.214059, Accuracy: 0.937800\n",
      "lenet_epoch=22 test_acc=0.938\n",
      "training...\n",
      "Train Avg. Loss: 0.231926, Accuracy: 0.934167\n",
      "Test Avg. Loss: 0.208435, Accuracy: 0.940600\n",
      "lenet_epoch=23 test_acc=0.941\n",
      "training...\n",
      "Train Avg. Loss: 0.225897, Accuracy: 0.935800\n",
      "Test Avg. Loss: 0.202635, Accuracy: 0.942400\n",
      "lenet_epoch=24 test_acc=0.942\n",
      "training...\n",
      "Train Avg. Loss: 0.219811, Accuracy: 0.937483\n",
      "Test Avg. Loss: 0.197464, Accuracy: 0.942100\n",
      "lenet_epoch=25 test_acc=0.942\n",
      "training...\n",
      "Train Avg. Loss: 0.214346, Accuracy: 0.939033\n",
      "Test Avg. Loss: 0.192413, Accuracy: 0.944200\n",
      "lenet_epoch=26 test_acc=0.944\n",
      "training...\n",
      "Train Avg. Loss: 0.208886, Accuracy: 0.940383\n",
      "Test Avg. Loss: 0.188040, Accuracy: 0.945300\n",
      "lenet_epoch=27 test_acc=0.945\n",
      "training...\n",
      "Train Avg. Loss: 0.203787, Accuracy: 0.942000\n",
      "Test Avg. Loss: 0.183407, Accuracy: 0.946900\n",
      "lenet_epoch=28 test_acc=0.947\n",
      "training...\n",
      "Train Avg. Loss: 0.199018, Accuracy: 0.943633\n",
      "Test Avg. Loss: 0.178903, Accuracy: 0.947800\n",
      "lenet_epoch=29 test_acc=0.948\n",
      "training...\n",
      "Train Avg. Loss: 0.194504, Accuracy: 0.944883\n",
      "Test Avg. Loss: 0.174849, Accuracy: 0.948700\n",
      "lenet_epoch=30 test_acc=0.949\n",
      "training...\n",
      "Train Avg. Loss: 0.189740, Accuracy: 0.946100\n",
      "Test Avg. Loss: 0.170654, Accuracy: 0.950400\n",
      "lenet_epoch=31 test_acc=0.950\n",
      "training...\n",
      "Train Avg. Loss: 0.185518, Accuracy: 0.947533\n",
      "Test Avg. Loss: 0.166697, Accuracy: 0.951800\n",
      "lenet_epoch=32 test_acc=0.952\n",
      "training...\n",
      "Train Avg. Loss: 0.181621, Accuracy: 0.948567\n",
      "Test Avg. Loss: 0.163268, Accuracy: 0.952100\n",
      "lenet_epoch=33 test_acc=0.952\n",
      "training...\n",
      "Train Avg. Loss: 0.177545, Accuracy: 0.949567\n",
      "Test Avg. Loss: 0.159817, Accuracy: 0.953600\n",
      "lenet_epoch=34 test_acc=0.954\n",
      "training...\n",
      "Train Avg. Loss: 0.173665, Accuracy: 0.950717\n",
      "Test Avg. Loss: 0.156028, Accuracy: 0.954900\n",
      "lenet_epoch=35 test_acc=0.955\n",
      "training...\n",
      "Train Avg. Loss: 0.170077, Accuracy: 0.951800\n",
      "Test Avg. Loss: 0.152890, Accuracy: 0.955000\n",
      "lenet_epoch=36 test_acc=0.955\n",
      "training...\n",
      "Train Avg. Loss: 0.166806, Accuracy: 0.953067\n",
      "Test Avg. Loss: 0.149817, Accuracy: 0.955900\n",
      "lenet_epoch=37 test_acc=0.956\n",
      "training...\n",
      "Train Avg. Loss: 0.163440, Accuracy: 0.953983\n",
      "Test Avg. Loss: 0.147176, Accuracy: 0.956800\n",
      "lenet_epoch=38 test_acc=0.957\n",
      "training...\n",
      "Train Avg. Loss: 0.160068, Accuracy: 0.954700\n",
      "Test Avg. Loss: 0.143996, Accuracy: 0.957700\n",
      "lenet_epoch=39 test_acc=0.958\n",
      "training...\n",
      "Train Avg. Loss: 0.156924, Accuracy: 0.955717\n",
      "Test Avg. Loss: 0.141215, Accuracy: 0.958700\n",
      "lenet_epoch=40 test_acc=0.959\n",
      "training...\n",
      "Train Avg. Loss: 0.153841, Accuracy: 0.956417\n",
      "Test Avg. Loss: 0.137955, Accuracy: 0.959600\n",
      "lenet_epoch=41 test_acc=0.960\n",
      "training...\n",
      "Train Avg. Loss: 0.151201, Accuracy: 0.957150\n",
      "Test Avg. Loss: 0.135744, Accuracy: 0.960400\n",
      "lenet_epoch=42 test_acc=0.960\n",
      "training...\n",
      "Train Avg. Loss: 0.148208, Accuracy: 0.958117\n",
      "Test Avg. Loss: 0.132778, Accuracy: 0.961400\n",
      "lenet_epoch=43 test_acc=0.961\n",
      "training...\n",
      "Train Avg. Loss: 0.145622, Accuracy: 0.958967\n",
      "Test Avg. Loss: 0.130578, Accuracy: 0.960900\n",
      "lenet_epoch=44 test_acc=0.961\n",
      "training...\n",
      "Train Avg. Loss: 0.143045, Accuracy: 0.959883\n",
      "Test Avg. Loss: 0.128359, Accuracy: 0.962000\n",
      "lenet_epoch=45 test_acc=0.962\n",
      "training...\n",
      "Train Avg. Loss: 0.140796, Accuracy: 0.960433\n",
      "Test Avg. Loss: 0.125919, Accuracy: 0.962200\n",
      "lenet_epoch=46 test_acc=0.962\n",
      "training...\n",
      "Train Avg. Loss: 0.137903, Accuracy: 0.961400\n",
      "Test Avg. Loss: 0.123446, Accuracy: 0.963400\n",
      "lenet_epoch=47 test_acc=0.963\n",
      "training...\n",
      "Train Avg. Loss: 0.135662, Accuracy: 0.961900\n",
      "Test Avg. Loss: 0.121722, Accuracy: 0.964200\n",
      "lenet_epoch=48 test_acc=0.964\n",
      "training...\n",
      "Train Avg. Loss: 0.133784, Accuracy: 0.962350\n",
      "Test Avg. Loss: 0.119488, Accuracy: 0.965300\n",
      "lenet_epoch=49 test_acc=0.965\n",
      "training...\n",
      "Train Avg. Loss: 0.131338, Accuracy: 0.963000\n",
      "Test Avg. Loss: 0.117166, Accuracy: 0.965900\n",
      "lenet_epoch=50 test_acc=0.966\n",
      "training...\n",
      "Train Avg. Loss: 0.129301, Accuracy: 0.963517\n",
      "Test Avg. Loss: 0.115260, Accuracy: 0.966200\n",
      "lenet_epoch=51 test_acc=0.966\n",
      "training...\n",
      "Train Avg. Loss: 0.127218, Accuracy: 0.964133\n",
      "Test Avg. Loss: 0.113343, Accuracy: 0.966800\n",
      "lenet_epoch=52 test_acc=0.967\n",
      "training...\n",
      "Train Avg. Loss: 0.125226, Accuracy: 0.964767\n",
      "Test Avg. Loss: 0.111829, Accuracy: 0.967600\n",
      "lenet_epoch=53 test_acc=0.968\n",
      "training...\n",
      "Train Avg. Loss: 0.123267, Accuracy: 0.965083\n",
      "Test Avg. Loss: 0.110013, Accuracy: 0.967700\n",
      "lenet_epoch=54 test_acc=0.968\n",
      "training...\n",
      "Train Avg. Loss: 0.121643, Accuracy: 0.965867\n",
      "Test Avg. Loss: 0.108239, Accuracy: 0.968500\n",
      "lenet_epoch=55 test_acc=0.969\n",
      "training...\n",
      "Train Avg. Loss: 0.119661, Accuracy: 0.966733\n",
      "Test Avg. Loss: 0.106510, Accuracy: 0.969100\n",
      "lenet_epoch=56 test_acc=0.969\n",
      "training...\n",
      "Train Avg. Loss: 0.118144, Accuracy: 0.967167\n",
      "Test Avg. Loss: 0.104824, Accuracy: 0.969400\n",
      "lenet_epoch=57 test_acc=0.969\n",
      "training...\n",
      "Train Avg. Loss: 0.116157, Accuracy: 0.967400\n",
      "Test Avg. Loss: 0.103436, Accuracy: 0.970000\n",
      "lenet_epoch=58 test_acc=0.970\n",
      "training...\n",
      "Train Avg. Loss: 0.114446, Accuracy: 0.967717\n",
      "Test Avg. Loss: 0.101908, Accuracy: 0.970100\n",
      "lenet_epoch=59 test_acc=0.970\n",
      "training...\n",
      "Train Avg. Loss: 0.113025, Accuracy: 0.968217\n",
      "Test Avg. Loss: 0.100495, Accuracy: 0.971100\n",
      "lenet_epoch=60 test_acc=0.971\n",
      "training...\n",
      "Train Avg. Loss: 0.111508, Accuracy: 0.968717\n",
      "Test Avg. Loss: 0.099044, Accuracy: 0.971000\n",
      "lenet_epoch=61 test_acc=0.971\n",
      "training...\n",
      "Train Avg. Loss: 0.109928, Accuracy: 0.968867\n",
      "Test Avg. Loss: 0.097497, Accuracy: 0.971400\n",
      "lenet_epoch=62 test_acc=0.971\n",
      "training...\n",
      "Train Avg. Loss: 0.108696, Accuracy: 0.969333\n",
      "Test Avg. Loss: 0.096295, Accuracy: 0.971900\n",
      "lenet_epoch=63 test_acc=0.972\n",
      "training...\n",
      "Train Avg. Loss: 0.107028, Accuracy: 0.969800\n",
      "Test Avg. Loss: 0.095272, Accuracy: 0.972300\n",
      "lenet_epoch=64 test_acc=0.972\n",
      "training...\n",
      "Train Avg. Loss: 0.105912, Accuracy: 0.969917\n",
      "Test Avg. Loss: 0.093958, Accuracy: 0.972600\n",
      "lenet_epoch=65 test_acc=0.973\n",
      "training...\n",
      "Train Avg. Loss: 0.104420, Accuracy: 0.970600\n",
      "Test Avg. Loss: 0.092347, Accuracy: 0.973400\n",
      "lenet_epoch=66 test_acc=0.973\n",
      "training...\n",
      "Train Avg. Loss: 0.103323, Accuracy: 0.970767\n",
      "Test Avg. Loss: 0.091298, Accuracy: 0.973800\n",
      "lenet_epoch=67 test_acc=0.974\n",
      "training...\n",
      "Train Avg. Loss: 0.102061, Accuracy: 0.971100\n",
      "Test Avg. Loss: 0.090461, Accuracy: 0.974000\n",
      "lenet_epoch=68 test_acc=0.974\n",
      "training...\n",
      "Train Avg. Loss: 0.100709, Accuracy: 0.971550\n",
      "Test Avg. Loss: 0.089186, Accuracy: 0.974600\n",
      "lenet_epoch=69 test_acc=0.975\n",
      "training...\n",
      "Train Avg. Loss: 0.099492, Accuracy: 0.971617\n",
      "Test Avg. Loss: 0.088219, Accuracy: 0.974700\n",
      "lenet_epoch=70 test_acc=0.975\n",
      "training...\n",
      "Train Avg. Loss: 0.098440, Accuracy: 0.972117\n",
      "Test Avg. Loss: 0.087075, Accuracy: 0.975500\n",
      "lenet_epoch=71 test_acc=0.976\n",
      "training...\n",
      "Train Avg. Loss: 0.097332, Accuracy: 0.972483\n",
      "Test Avg. Loss: 0.086097, Accuracy: 0.976200\n",
      "lenet_epoch=72 test_acc=0.976\n",
      "training...\n",
      "Train Avg. Loss: 0.096367, Accuracy: 0.972733\n",
      "Test Avg. Loss: 0.085022, Accuracy: 0.976000\n",
      "lenet_epoch=73 test_acc=0.976\n",
      "training...\n",
      "Train Avg. Loss: 0.095061, Accuracy: 0.973117\n",
      "Test Avg. Loss: 0.084039, Accuracy: 0.976600\n",
      "lenet_epoch=74 test_acc=0.977\n",
      "training...\n",
      "Train Avg. Loss: 0.094039, Accuracy: 0.973533\n",
      "Test Avg. Loss: 0.083058, Accuracy: 0.977000\n",
      "lenet_epoch=75 test_acc=0.977\n",
      "training...\n",
      "Train Avg. Loss: 0.093260, Accuracy: 0.974000\n",
      "Test Avg. Loss: 0.082090, Accuracy: 0.977100\n",
      "lenet_epoch=76 test_acc=0.977\n",
      "training...\n",
      "Train Avg. Loss: 0.092327, Accuracy: 0.973867\n",
      "Test Avg. Loss: 0.081268, Accuracy: 0.977600\n",
      "lenet_epoch=77 test_acc=0.978\n",
      "training...\n",
      "Train Avg. Loss: 0.091268, Accuracy: 0.974267\n",
      "Test Avg. Loss: 0.080531, Accuracy: 0.977100\n",
      "lenet_epoch=78 test_acc=0.977\n",
      "training...\n",
      "Train Avg. Loss: 0.090242, Accuracy: 0.974600\n",
      "Test Avg. Loss: 0.079536, Accuracy: 0.977400\n",
      "lenet_epoch=79 test_acc=0.977\n",
      "training...\n",
      "Train Avg. Loss: 0.089352, Accuracy: 0.974800\n",
      "Test Avg. Loss: 0.079088, Accuracy: 0.977700\n",
      "lenet_epoch=80 test_acc=0.978\n",
      "training...\n",
      "Train Avg. Loss: 0.088431, Accuracy: 0.975117\n",
      "Test Avg. Loss: 0.078235, Accuracy: 0.977700\n",
      "lenet_epoch=81 test_acc=0.978\n",
      "training...\n",
      "Train Avg. Loss: 0.087695, Accuracy: 0.975300\n",
      "Test Avg. Loss: 0.077324, Accuracy: 0.977900\n",
      "lenet_epoch=82 test_acc=0.978\n",
      "training...\n",
      "Train Avg. Loss: 0.086645, Accuracy: 0.975683\n",
      "Test Avg. Loss: 0.076597, Accuracy: 0.978400\n",
      "lenet_epoch=83 test_acc=0.978\n",
      "training...\n",
      "Train Avg. Loss: 0.085843, Accuracy: 0.975833\n",
      "Test Avg. Loss: 0.075956, Accuracy: 0.978900\n",
      "lenet_epoch=84 test_acc=0.979\n",
      "training...\n",
      "Train Avg. Loss: 0.085042, Accuracy: 0.976150\n",
      "Test Avg. Loss: 0.075072, Accuracy: 0.979300\n",
      "lenet_epoch=85 test_acc=0.979\n",
      "training...\n",
      "Train Avg. Loss: 0.084343, Accuracy: 0.976417\n",
      "Test Avg. Loss: 0.074499, Accuracy: 0.979200\n",
      "lenet_epoch=86 test_acc=0.979\n",
      "training...\n",
      "Train Avg. Loss: 0.083462, Accuracy: 0.976617\n",
      "Test Avg. Loss: 0.073967, Accuracy: 0.978700\n",
      "lenet_epoch=87 test_acc=0.979\n",
      "training...\n",
      "Train Avg. Loss: 0.082842, Accuracy: 0.976800\n",
      "Test Avg. Loss: 0.073128, Accuracy: 0.979800\n",
      "lenet_epoch=88 test_acc=0.980\n",
      "training...\n",
      "Train Avg. Loss: 0.082066, Accuracy: 0.976900\n",
      "Test Avg. Loss: 0.073009, Accuracy: 0.979100\n",
      "lenet_epoch=89 test_acc=0.979\n",
      "training...\n",
      "Train Avg. Loss: 0.081395, Accuracy: 0.977300\n",
      "Test Avg. Loss: 0.072353, Accuracy: 0.979700\n",
      "lenet_epoch=90 test_acc=0.980\n",
      "training...\n",
      "Train Avg. Loss: 0.080703, Accuracy: 0.977517\n",
      "Test Avg. Loss: 0.071348, Accuracy: 0.980300\n",
      "lenet_epoch=91 test_acc=0.980\n",
      "training...\n",
      "Train Avg. Loss: 0.079991, Accuracy: 0.977500\n",
      "Test Avg. Loss: 0.070704, Accuracy: 0.980600\n",
      "lenet_epoch=92 test_acc=0.981\n",
      "training...\n",
      "Train Avg. Loss: 0.079294, Accuracy: 0.977767\n",
      "Test Avg. Loss: 0.070071, Accuracy: 0.980400\n",
      "lenet_epoch=93 test_acc=0.980\n",
      "training...\n",
      "Train Avg. Loss: 0.078825, Accuracy: 0.977733\n",
      "Test Avg. Loss: 0.069640, Accuracy: 0.981400\n",
      "lenet_epoch=94 test_acc=0.981\n",
      "training...\n",
      "Train Avg. Loss: 0.077985, Accuracy: 0.978183\n",
      "Test Avg. Loss: 0.069174, Accuracy: 0.980800\n",
      "lenet_epoch=95 test_acc=0.981\n",
      "training...\n",
      "Train Avg. Loss: 0.077436, Accuracy: 0.978250\n",
      "Test Avg. Loss: 0.068477, Accuracy: 0.981300\n",
      "lenet_epoch=96 test_acc=0.981\n",
      "training...\n",
      "Train Avg. Loss: 0.076952, Accuracy: 0.978450\n",
      "Test Avg. Loss: 0.068221, Accuracy: 0.981400\n",
      "lenet_epoch=97 test_acc=0.981\n",
      "training...\n",
      "Train Avg. Loss: 0.076263, Accuracy: 0.978583\n",
      "Test Avg. Loss: 0.067709, Accuracy: 0.981800\n",
      "lenet_epoch=98 test_acc=0.982\n",
      "training...\n",
      "Train Avg. Loss: 0.075758, Accuracy: 0.978983\n",
      "Test Avg. Loss: 0.067051, Accuracy: 0.981900\n",
      "lenet_epoch=99 test_acc=0.982\n"
     ]
    }
   ],
   "source": [
    "acc, loss, val_acc, val_loss = [], [], [], []\n",
    "\n",
    "for e in range(epoch):\n",
    "    a, b, c, d = train_and_test(e)\n",
    "    acc.append(a)\n",
    "    loss.append(b)\n",
    "    val_acc.append(c)\n",
    "    val_loss.append(d)\n",
    "    print(f'lenet_epoch={e} test_acc={c:0.3f}')\n",
    "    #if e % 2 == 0:\n",
    "     #   torch.save(net.state_dict(), f'autodl-tmp/save_model/mnist/Lenet5/lenet_epoch={e}_test_acc={acc:0.3f}.pth')\n",
    "#    torch.save(net.state_dict(), f'autodl-tmp/save_model/fashion/Lenet1/lenet_epoch={e}_test_acc={acc:0.3f}.pth')"
   ]
  },
  {
   "cell_type": "code",
   "execution_count": 12,
   "id": "49f64f87-12ba-4190-8f1e-bb8021599f56",
   "metadata": {},
   "outputs": [
    {
     "data": {
      "image/png": "[encoded data removed]",
      "text/plain": [
       "<Figure size 432x288 with 1 Axes>"
      ]
     },
     "metadata": {
      "needs_background": "light"
     },
     "output_type": "display_data"
    }
   ],
   "source": [
    "x = np.arange(epoch)\n",
    "plt.plot(x, acc, color='red', linestyle='--', label=\"acc\")\n",
    "plt.plot(x, loss, color='green', label=\"loss\")\n",
    "plt.plot(x, val_acc, color='blue', linestyle='dotted', label=\"val acc\")\n",
    "plt.plot(x, val_loss, color='indigo', linestyle='dashdot', label=\"val loss\")\n",
    "plt.title('MNIST-Le1', fontsize=14, y=-0.27)\n",
    "plt.xlabel('Epoch')\n",
    "plt.ylabel('Acc-Loss')\n",
    "plt.xticks(ticks=[0,20,40,60,80,100])\n",
    "# 添加图例\n",
    "plt.legend(loc='center',bbox_to_anchor=(0.5, 1.1),ncol=2)\n",
    "plt.show()"
   ]
  },
  {
   "cell_type": "code",
   "execution_count": 13,
   "id": "f3bcb76f-b1a9-4ca3-ab4b-9b22d21767a1",
   "metadata": {},
   "outputs": [
    {
     "data": {
      "text/plain": [
       "[0.6656,\n",
       " 0.7883,\n",
       " 0.8335,\n",
       " 0.8576,\n",
       " 0.8716,\n",
       " 0.8811,\n",
       " 0.8879,\n",
       " 0.895,\n",
       " 0.902,\n",
       " 0.9071,\n",
       " 0.9108,\n",
       " 0.9137,\n",
       " 0.9169,\n",
       " 0.9188,\n",
       " 0.9222,\n",
       " 0.925,\n",
       " 0.9267,\n",
       " 0.9285,\n",
       " 0.9312,\n",
       " 0.933,\n",
       " 0.9345,\n",
       " 0.9361,\n",
       " 0.9378,\n",
       " 0.9406,\n",
       " 0.9424,\n",
       " 0.9421,\n",
       " 0.9442,\n",
       " 0.9453,\n",
       " 0.9469,\n",
       " 0.9478,\n",
       " 0.9487,\n",
       " 0.9504,\n",
       " 0.9518,\n",
       " 0.9521,\n",
       " 0.9536,\n",
       " 0.9549,\n",
       " 0.955,\n",
       " 0.9559,\n",
       " 0.9568,\n",
       " 0.9577,\n",
       " 0.9587,\n",
       " 0.9596,\n",
       " 0.9604,\n",
       " 0.9614,\n",
       " 0.9609,\n",
       " 0.962,\n",
       " 0.9622,\n",
       " 0.9634,\n",
       " 0.9642,\n",
       " 0.9653,\n",
       " 0.9659,\n",
       " 0.9662,\n",
       " 0.9668,\n",
       " 0.9676,\n",
       " 0.9677,\n",
       " 0.9685,\n",
       " 0.9691,\n",
       " 0.9694,\n",
       " 0.97,\n",
       " 0.9701,\n",
       " 0.9711,\n",
       " 0.971,\n",
       " 0.9714,\n",
       " 0.9719,\n",
       " 0.9723,\n",
       " 0.9726,\n",
       " 0.9734,\n",
       " 0.9738,\n",
       " 0.974,\n",
       " 0.9746,\n",
       " 0.9747,\n",
       " 0.9755,\n",
       " 0.9762,\n",
       " 0.976,\n",
       " 0.9766,\n",
       " 0.977,\n",
       " 0.9771,\n",
       " 0.9776,\n",
       " 0.9771,\n",
       " 0.9774,\n",
       " 0.9777,\n",
       " 0.9777,\n",
       " 0.9779,\n",
       " 0.9784,\n",
       " 0.9789,\n",
       " 0.9793,\n",
       " 0.9792,\n",
       " 0.9787,\n",
       " 0.9798,\n",
       " 0.9791,\n",
       " 0.9797,\n",
       " 0.9803,\n",
       " 0.9806,\n",
       " 0.9804,\n",
       " 0.9814,\n",
       " 0.9808,\n",
       " 0.9813,\n",
       " 0.9814,\n",
       " 0.9818,\n",
       " 0.9819]"
      ]
     },
     "execution_count": 13,
     "metadata": {},
     "output_type": "execute_result"
    }
   ],
   "source": [
    "val_acc"
   ]
  },
  {
   "cell_type": "code",
   "execution_count": 30,
   "id": "f59a63b0-2215-43ea-867b-25cea45b2f0b",
   "metadata": {},
   "outputs": [
    {
     "data": {
      "text/plain": [
       "[1.7100056409835815,\n",
       " 0.9971640706062317,\n",
       " 0.721243679523468,\n",
       " 0.589118480682373,\n",
       " 0.5097996592521667,\n",
       " 0.45578432083129883,\n",
       " 0.4161677956581116,\n",
       " 0.38496947288513184,\n",
       " 0.3607056438922882,\n",
       " 0.33923986554145813,\n",
       " 0.32168257236480713,\n",
       " 0.3062794804573059,\n",
       " 0.29210230708122253,\n",
       " 0.2800903022289276,\n",
       " 0.26880359649658203,\n",
       " 0.2586222290992737,\n",
       " 0.2491549551486969,\n",
       " 0.24188180267810822,\n",
       " 0.23277416825294495,\n",
       " 0.2250174582004547,\n",
       " 0.21805249154567719,\n",
       " 0.21178355813026428,\n",
       " 0.20542214810848236,\n",
       " 0.2000395804643631,\n",
       " 0.1948394626379013,\n",
       " 0.1894795000553131,\n",
       " 0.18442454934120178,\n",
       " 0.17984415590763092,\n",
       " 0.1752290576696396,\n",
       " 0.17110173404216766,\n",
       " 0.16749612987041473,\n",
       " 0.16399066150188446,\n",
       " 0.159885436296463,\n",
       " 0.15699586272239685,\n",
       " 0.15367893874645233,\n",
       " 0.15031227469444275,\n",
       " 0.14732448756694794,\n",
       " 0.1449839472770691,\n",
       " 0.1419285237789154,\n",
       " 0.13913868367671967,\n",
       " 0.13650570809841156,\n",
       " 0.13415022194385529,\n",
       " 0.13182556629180908,\n",
       " 0.1294068545103073,\n",
       " 0.12792915105819702,\n",
       " 0.12510210275650024,\n",
       " 0.12314166873693466,\n",
       " 0.12122941017150879,\n",
       " 0.11938352882862091,\n",
       " 0.11725916713476181,\n",
       " 0.11528467386960983,\n",
       " 0.11377425491809845,\n",
       " 0.11241767555475235,\n",
       " 0.11089024692773819,\n",
       " 0.10880819708108902,\n",
       " 0.10750160366296768,\n",
       " 0.10663194954395294,\n",
       " 0.10488773882389069,\n",
       " 0.10375478118658066,\n",
       " 0.10198060423135757,\n",
       " 0.10073830932378769,\n",
       " 0.0995902419090271,\n",
       " 0.09832289069890976,\n",
       " 0.09743493050336838,\n",
       " 0.09656700491905212,\n",
       " 0.0952034667134285,\n",
       " 0.09426600486040115,\n",
       " 0.0930541381239891,\n",
       " 0.0921897143125534,\n",
       " 0.09130703657865524,\n",
       " 0.08997011929750443,\n",
       " 0.08907587081193924,\n",
       " 0.08849389106035233,\n",
       " 0.08727417886257172,\n",
       " 0.08676157146692276,\n",
       " 0.0865996703505516,\n",
       " 0.08518488705158234,\n",
       " 0.08402540534734726,\n",
       " 0.08313296735286713,\n",
       " 0.08258683234453201,\n",
       " 0.0821070447564125,\n",
       " 0.081092469394207,\n",
       " 0.08067401498556137,\n",
       " 0.07992126047611237,\n",
       " 0.07899387925863266,\n",
       " 0.07839372009038925,\n",
       " 0.07769166678190231,\n",
       " 0.07702399790287018,\n",
       " 0.07679872959852219,\n",
       " 0.07570558041334152,\n",
       " 0.07526256144046783,\n",
       " 0.07497920095920563,\n",
       " 0.07410455495119095,\n",
       " 0.07378070801496506,\n",
       " 0.07321508973836899,\n",
       " 0.07286151498556137,\n",
       " 0.07224169373512268,\n",
       " 0.07168568670749664,\n",
       " 0.07106271386146545,\n",
       " 0.07054385542869568]"
      ]
     },
     "execution_count": 30,
     "metadata": {},
     "output_type": "execute_result"
    }
   ],
   "source": [
    "val_loss"
   ]
  },
  {
   "cell_type": "code",
   "execution_count": 31,
   "id": "d312789a-d9e4-4f53-8b15-7d6f512933ff",
   "metadata": {},
   "outputs": [
    {
     "data": {
      "text/plain": [
       "[0.36118333333333336,\n",
       " 0.7288333333333333,\n",
       " 0.7998,\n",
       " 0.8333333333333334,\n",
       " 0.8529333333333333,\n",
       " 0.8669666666666667,\n",
       " 0.87745,\n",
       " 0.88485,\n",
       " 0.8911833333333333,\n",
       " 0.8964666666666666,\n",
       " 0.90105,\n",
       " 0.9051,\n",
       " 0.9091333333333333,\n",
       " 0.9124333333333333,\n",
       " 0.9158833333333334,\n",
       " 0.9189166666666667,\n",
       " 0.9218333333333333,\n",
       " 0.9241666666666667,\n",
       " 0.9267166666666666,\n",
       " 0.9289,\n",
       " 0.9311666666666667,\n",
       " 0.93295,\n",
       " 0.9348333333333333,\n",
       " 0.9363333333333334,\n",
       " 0.9379333333333333,\n",
       " 0.9399333333333333,\n",
       " 0.9412,\n",
       " 0.9429166666666666,\n",
       " 0.9437333333333333,\n",
       " 0.9451666666666667,\n",
       " 0.9461,\n",
       " 0.9477166666666667,\n",
       " 0.9484166666666667,\n",
       " 0.94975,\n",
       " 0.9507833333333333,\n",
       " 0.9518833333333333,\n",
       " 0.9529166666666666,\n",
       " 0.9537166666666667,\n",
       " 0.9549,\n",
       " 0.9553333333333334,\n",
       " 0.95615,\n",
       " 0.9570333333333333,\n",
       " 0.9576166666666667,\n",
       " 0.9586,\n",
       " 0.9590833333333333,\n",
       " 0.9598166666666667,\n",
       " 0.96035,\n",
       " 0.961,\n",
       " 0.9619666666666666,\n",
       " 0.9623,\n",
       " 0.9628,\n",
       " 0.9635,\n",
       " 0.9639666666666666,\n",
       " 0.9645,\n",
       " 0.9649833333333333,\n",
       " 0.9653,\n",
       " 0.9659833333333333,\n",
       " 0.9663833333333334,\n",
       " 0.9665666666666667,\n",
       " 0.9671666666666666,\n",
       " 0.96735,\n",
       " 0.9677333333333333,\n",
       " 0.9682166666666666,\n",
       " 0.9689166666666666,\n",
       " 0.9689833333333333,\n",
       " 0.9693666666666667,\n",
       " 0.9697833333333333,\n",
       " 0.9700666666666666,\n",
       " 0.9701333333333333,\n",
       " 0.9706666666666667,\n",
       " 0.9709333333333333,\n",
       " 0.9712,\n",
       " 0.9716333333333333,\n",
       " 0.97175,\n",
       " 0.9722,\n",
       " 0.9721833333333333,\n",
       " 0.9722166666666666,\n",
       " 0.9725,\n",
       " 0.973,\n",
       " 0.9733,\n",
       " 0.9734,\n",
       " 0.97355,\n",
       " 0.9739,\n",
       " 0.9741333333333333,\n",
       " 0.97425,\n",
       " 0.9746,\n",
       " 0.9749666666666666,\n",
       " 0.9751,\n",
       " 0.9752166666666666,\n",
       " 0.9753833333333334,\n",
       " 0.97565,\n",
       " 0.97595,\n",
       " 0.9761166666666666,\n",
       " 0.9763333333333334,\n",
       " 0.9761666666666666,\n",
       " 0.9767166666666667,\n",
       " 0.9768,\n",
       " 0.9768833333333333,\n",
       " 0.97705,\n",
       " 0.9770166666666666]"
      ]
     },
     "execution_count": 31,
     "metadata": {},
     "output_type": "execute_result"
    }
   ],
   "source": [
    "acc"
   ]
  },
  {
   "cell_type": "code",
   "execution_count": 32,
   "id": "e3d57987-6127-47a2-a63d-359f173ba510",
   "metadata": {},
   "outputs": [
    {
     "data": {
      "text/plain": [
       "[2.088920597827181,\n",
       " 1.3293205634076544,\n",
       " 0.8693325527170871,\n",
       " 0.6789082151778201,\n",
       " 0.5771806366900181,\n",
       " 0.510897177965083,\n",
       " 0.46418136916262037,\n",
       " 0.4290776661101808,\n",
       " 0.40098398112236183,\n",
       " 0.3777357157240523,\n",
       " 0.35838204888587305,\n",
       " 0.3411328555421626,\n",
       " 0.3259762613063163,\n",
       " 0.3130909794822652,\n",
       " 0.3007724209034697,\n",
       " 0.2892808836825351,\n",
       " 0.27914095184904464,\n",
       " 0.2696934602996136,\n",
       " 0.2608464593582965,\n",
       " 0.25301243516993016,\n",
       " 0.2453361688776219,\n",
       " 0.23793249041476147,\n",
       " 0.23117895418025078,\n",
       " 0.22497987499896516,\n",
       " 0.2188756467180049,\n",
       " 0.21332615214459438,\n",
       " 0.20828516090169866,\n",
       " 0.20257735972074753,\n",
       " 0.19795851961095282,\n",
       " 0.19358160270655408,\n",
       " 0.18911317336432476,\n",
       " 0.18514037360536292,\n",
       " 0.18091055186505015,\n",
       " 0.17734369489740817,\n",
       " 0.17342467783613408,\n",
       " 0.17038358094844414,\n",
       " 0.16702729964509924,\n",
       " 0.16356032639741896,\n",
       " 0.16048521076111083,\n",
       " 0.15755306799361046,\n",
       " 0.15498553647639904,\n",
       " 0.15206337409450651,\n",
       " 0.14938025186036497,\n",
       " 0.14705245532888048,\n",
       " 0.14431189834437472,\n",
       " 0.14226945077485226,\n",
       " 0.13989910611763914,\n",
       " 0.13796812362493352,\n",
       " 0.1355595606438657,\n",
       " 0.13346730329571888,\n",
       " 0.1316082256271484,\n",
       " 0.1296699786439855,\n",
       " 0.12765034031360709,\n",
       " 0.12629226741004498,\n",
       " 0.124051322835557,\n",
       " 0.12244488999564597,\n",
       " 0.12087488913155617,\n",
       " 0.11997379322952413,\n",
       " 0.11774784955889621,\n",
       " 0.11630204551397486,\n",
       " 0.1148689293956503,\n",
       " 0.1136635201249985,\n",
       " 0.11193338290173957,\n",
       " 0.11065929245124471,\n",
       " 0.10938418727922947,\n",
       " 0.10811964528674775,\n",
       " 0.10698817469021107,\n",
       " 0.1057305819969228,\n",
       " 0.10465746377693846,\n",
       " 0.10337550316719299,\n",
       " 0.10226654308907529,\n",
       " 0.10136138494027422,\n",
       " 0.10023041949310202,\n",
       " 0.09949017832887934,\n",
       " 0.09819857459119026,\n",
       " 0.0971669928666125,\n",
       " 0.09649966436814754,\n",
       " 0.0952706979627305,\n",
       " 0.09433448598422903,\n",
       " 0.09344263918539311,\n",
       " 0.092729659188301,\n",
       " 0.09195609309888901,\n",
       " 0.09102219531827785,\n",
       " 0.09029609746438391,\n",
       " 0.0896095207396974,\n",
       " 0.08873260311306791,\n",
       " 0.08801676286978924,\n",
       " 0.08723825026065746,\n",
       " 0.08640003381891453,\n",
       " 0.08576742879887844,\n",
       " 0.08506009921114495,\n",
       " 0.08439279526789138,\n",
       " 0.08375378208274536,\n",
       " 0.08314903533839164,\n",
       " 0.08267615331297225,\n",
       " 0.0820229617522118,\n",
       " 0.08129332948555337,\n",
       " 0.08091564891820258,\n",
       " 0.08004711227531129,\n",
       " 0.0795618898532492]"
      ]
     },
     "execution_count": 32,
     "metadata": {},
     "output_type": "execute_result"
    }
   ],
   "source": [
    "loss"
   ]
  },
  {
   "cell_type": "code",
   "execution_count": 16,
   "id": "906261c7-b7fe-4bac-83e0-3bb75a8922cc",
   "metadata": {},
   "outputs": [],
   "source": [
    "from models.mnist_classifier.lenet import LeNet5, LeNet1\n",
    "import torch\n",
    "from torch import nn\n",
    "from torchvision import datasets, transforms\n",
    "from torch.utils.data import Dataset, DataLoader\n",
    "from torchinfo import summary\n",
    "from tqdm import tqdm\n",
    "import matplotlib.pyplot as plt\n",
    " \n",
    "# 加载数据集\n",
    "train_dataset = datasets.MNIST(root='./autodl-tmp/mnist', train=True, transform=transforms.ToTensor(), download=False)\n",
    "test_dataset = datasets.MNIST(root='./autodl-tmp/mnist', train=False, transform=transforms.ToTensor(), download=False)\n",
    "train_dataloader = DataLoader(train_dataset, batch_size=256, shuffle=True)\n",
    "test_dataloader = DataLoader(test_dataset, batch_size=256, shuffle=False)"
   ]
  },
  {
   "cell_type": "code",
   "execution_count": 17,
   "id": "cef292d3-ee5e-40e8-b6b8-10937ddee66c",
   "metadata": {},
   "outputs": [],
   "source": [
    "# 定义网络结构\n",
    "class LeNet(nn.Module):\n",
    "    def __init__(self, in_channel, out_channel):\n",
    "        super().__init__()\n",
    "        self.conv1 = nn.Conv2d(in_channel, 6, kernel_size=5, padding=2)\n",
    "        self.avgpool1 = nn.AvgPool2d(kernel_size=2, stride=2)\n",
    "        self.conv2 = nn.Conv2d(6, 16, kernel_size=5)\n",
    "        self.avgpool2 = nn.AvgPool2d(kernel_size=2, stride=2)\n",
    "        self.flatten = nn.Flatten()\n",
    "        self.linear1 = nn.Linear(400, 120)\n",
    "        self.linear2 = nn.Linear(120, 84)\n",
    "        self.linear3 = nn.Linear(84, out_channel)\n",
    "        self.sigmoid = nn.Sigmoid()\n",
    "        self.relu = nn.ReLU()\n",
    "        \n",
    "    def forward(self, x):\n",
    "        h1 = self.relu(self.conv1(x))\n",
    "        h2 = self.avgpool1(h1)\n",
    "        h3 = self.relu(self.conv2(h2))\n",
    "        h4 = self.avgpool2(h3)\n",
    "        h5 = self.relu(self.linear1(self.flatten(h4)))\n",
    "        h6 = self.relu(self.linear2(h5))\n",
    "        h7 = self.linear3(h6)\n",
    "        return h7"
   ]
  },
  {
   "cell_type": "code",
   "execution_count": 18,
   "id": "9377d549-ee0c-4902-bf76-a71892e1bef6",
   "metadata": {},
   "outputs": [
    {
     "name": "stderr",
     "output_type": "stream",
     "text": [
      "100%|██████████| 235/235 [00:04<00:00, 48.86it/s]\n"
     ]
    },
    {
     "name": "stdout",
     "output_type": "stream",
     "text": [
      "epoch:0, train_loss:1.7331313171285263, train_acc:0.5444166666666667\n"
     ]
    },
    {
     "name": "stderr",
     "output_type": "stream",
     "text": [
      "100%|██████████| 40/40 [00:00<00:00, 53.93it/s]\n"
     ]
    },
    {
     "name": "stdout",
     "output_type": "stream",
     "text": [
      "test_loss:0.7761695556342602, test_acc:0.7885\n"
     ]
    },
    {
     "name": "stderr",
     "output_type": "stream",
     "text": [
      "100%|██████████| 235/235 [00:04<00:00, 47.78it/s]\n"
     ]
    },
    {
     "name": "stdout",
     "output_type": "stream",
     "text": [
      "epoch:1, train_loss:0.6065840557534644, train_acc:0.8222666666666667\n"
     ]
    },
    {
     "name": "stderr",
     "output_type": "stream",
     "text": [
      "100%|██████████| 40/40 [00:00<00:00, 54.80it/s]\n"
     ]
    },
    {
     "name": "stdout",
     "output_type": "stream",
     "text": [
      "test_loss:0.48024301752448084, test_acc:0.859\n"
     ]
    },
    {
     "name": "stderr",
     "output_type": "stream",
     "text": [
      "100%|██████████| 235/235 [00:04<00:00, 50.24it/s]\n"
     ]
    },
    {
     "name": "stdout",
     "output_type": "stream",
     "text": [
      "epoch:2, train_loss:0.459442330294467, train_acc:0.8651166666666666\n"
     ]
    },
    {
     "name": "stderr",
     "output_type": "stream",
     "text": [
      "100%|██████████| 40/40 [00:00<00:00, 56.75it/s]\n"
     ]
    },
    {
     "name": "stdout",
     "output_type": "stream",
     "text": [
      "test_loss:0.401952818967402, test_acc:0.8827\n"
     ]
    },
    {
     "name": "stderr",
     "output_type": "stream",
     "text": [
      "100%|██████████| 235/235 [00:04<00:00, 48.21it/s]\n"
     ]
    },
    {
     "name": "stdout",
     "output_type": "stream",
     "text": [
      "epoch:3, train_loss:0.3939485376185559, train_acc:0.884\n"
     ]
    },
    {
     "name": "stderr",
     "output_type": "stream",
     "text": [
      "100%|██████████| 40/40 [00:00<00:00, 56.51it/s]\n"
     ]
    },
    {
     "name": "stdout",
     "output_type": "stream",
     "text": [
      "test_loss:0.35894947005435823, test_acc:0.8933\n"
     ]
    },
    {
     "name": "stderr",
     "output_type": "stream",
     "text": [
      "100%|██████████| 235/235 [00:04<00:00, 49.04it/s]\n"
     ]
    },
    {
     "name": "stdout",
     "output_type": "stream",
     "text": [
      "epoch:4, train_loss:0.34973269770754145, train_acc:0.89655\n"
     ]
    },
    {
     "name": "stderr",
     "output_type": "stream",
     "text": [
      "100%|██████████| 40/40 [00:00<00:00, 55.90it/s]\n"
     ]
    },
    {
     "name": "stdout",
     "output_type": "stream",
     "text": [
      "test_loss:0.3167864385060966, test_acc:0.9079\n"
     ]
    },
    {
     "name": "stderr",
     "output_type": "stream",
     "text": [
      "100%|██████████| 235/235 [00:04<00:00, 49.27it/s]\n"
     ]
    },
    {
     "name": "stdout",
     "output_type": "stream",
     "text": [
      "epoch:5, train_loss:0.3149649341689779, train_acc:0.90665\n"
     ]
    },
    {
     "name": "stderr",
     "output_type": "stream",
     "text": [
      "100%|██████████| 40/40 [00:00<00:00, 56.23it/s]\n"
     ]
    },
    {
     "name": "stdout",
     "output_type": "stream",
     "text": [
      "test_loss:0.28234746064990757, test_acc:0.9165\n"
     ]
    },
    {
     "name": "stderr",
     "output_type": "stream",
     "text": [
      "100%|██████████| 235/235 [00:04<00:00, 48.03it/s]\n"
     ]
    },
    {
     "name": "stdout",
     "output_type": "stream",
     "text": [
      "epoch:6, train_loss:0.2877510447451409, train_acc:0.9141166666666667\n"
     ]
    },
    {
     "name": "stderr",
     "output_type": "stream",
     "text": [
      "100%|██████████| 40/40 [00:00<00:00, 56.53it/s]\n"
     ]
    },
    {
     "name": "stdout",
     "output_type": "stream",
     "text": [
      "test_loss:0.2575010961387306, test_acc:0.9239\n"
     ]
    },
    {
     "name": "stderr",
     "output_type": "stream",
     "text": [
      "100%|██████████| 235/235 [00:04<00:00, 48.92it/s]\n"
     ]
    },
    {
     "name": "stdout",
     "output_type": "stream",
     "text": [
      "epoch:7, train_loss:0.2636949787748621, train_acc:0.9204666666666667\n"
     ]
    },
    {
     "name": "stderr",
     "output_type": "stream",
     "text": [
      "100%|██████████| 40/40 [00:00<00:00, 52.85it/s]\n"
     ]
    },
    {
     "name": "stdout",
     "output_type": "stream",
     "text": [
      "test_loss:0.23183038849383591, test_acc:0.9288\n"
     ]
    },
    {
     "name": "stderr",
     "output_type": "stream",
     "text": [
      "100%|██████████| 235/235 [00:04<00:00, 48.20it/s]\n"
     ]
    },
    {
     "name": "stdout",
     "output_type": "stream",
     "text": [
      "epoch:8, train_loss:0.24197583762889213, train_acc:0.9275166666666667\n"
     ]
    },
    {
     "name": "stderr",
     "output_type": "stream",
     "text": [
      "100%|██████████| 40/40 [00:00<00:00, 56.71it/s]\n"
     ]
    },
    {
     "name": "stdout",
     "output_type": "stream",
     "text": [
      "test_loss:0.21056975671090186, test_acc:0.9346\n"
     ]
    },
    {
     "name": "stderr",
     "output_type": "stream",
     "text": [
      "100%|██████████| 235/235 [00:04<00:00, 49.82it/s]\n"
     ]
    },
    {
     "name": "stdout",
     "output_type": "stream",
     "text": [
      "epoch:9, train_loss:0.22178756651726175, train_acc:0.9326333333333333\n"
     ]
    },
    {
     "name": "stderr",
     "output_type": "stream",
     "text": [
      "100%|██████████| 40/40 [00:00<00:00, 56.97it/s]\n"
     ]
    },
    {
     "name": "stdout",
     "output_type": "stream",
     "text": [
      "test_loss:0.1960402879398316, test_acc:0.942\n"
     ]
    },
    {
     "name": "stderr",
     "output_type": "stream",
     "text": [
      "100%|██████████| 235/235 [00:04<00:00, 49.89it/s]\n"
     ]
    },
    {
     "name": "stdout",
     "output_type": "stream",
     "text": [
      "epoch:10, train_loss:0.20489905945798184, train_acc:0.9384166666666667\n"
     ]
    },
    {
     "name": "stderr",
     "output_type": "stream",
     "text": [
      "100%|██████████| 40/40 [00:00<00:00, 57.47it/s]\n"
     ]
    },
    {
     "name": "stdout",
     "output_type": "stream",
     "text": [
      "test_loss:0.1766570304520428, test_acc:0.9479\n"
     ]
    },
    {
     "name": "stderr",
     "output_type": "stream",
     "text": [
      "100%|██████████| 235/235 [00:04<00:00, 48.31it/s]\n"
     ]
    },
    {
     "name": "stdout",
     "output_type": "stream",
     "text": [
      "epoch:11, train_loss:0.18997144439118974, train_acc:0.94245\n"
     ]
    },
    {
     "name": "stderr",
     "output_type": "stream",
     "text": [
      "100%|██████████| 40/40 [00:00<00:00, 54.74it/s]\n"
     ]
    },
    {
     "name": "stdout",
     "output_type": "stream",
     "text": [
      "test_loss:0.16610681340098382, test_acc:0.9513\n"
     ]
    },
    {
     "name": "stderr",
     "output_type": "stream",
     "text": [
      "100%|██████████| 235/235 [00:04<00:00, 48.65it/s]\n"
     ]
    },
    {
     "name": "stdout",
     "output_type": "stream",
     "text": [
      "epoch:12, train_loss:0.1760029307705291, train_acc:0.94685\n"
     ]
    },
    {
     "name": "stderr",
     "output_type": "stream",
     "text": [
      "100%|██████████| 40/40 [00:00<00:00, 56.58it/s]\n"
     ]
    },
    {
     "name": "stdout",
     "output_type": "stream",
     "text": [
      "test_loss:0.1550240797922015, test_acc:0.955\n"
     ]
    },
    {
     "name": "stderr",
     "output_type": "stream",
     "text": [
      "100%|██████████| 235/235 [00:04<00:00, 49.70it/s]\n"
     ]
    },
    {
     "name": "stdout",
     "output_type": "stream",
     "text": [
      "epoch:13, train_loss:0.16345664262771606, train_acc:0.9505333333333333\n"
     ]
    },
    {
     "name": "stderr",
     "output_type": "stream",
     "text": [
      "100%|██████████| 40/40 [00:00<00:00, 58.18it/s]\n"
     ]
    },
    {
     "name": "stdout",
     "output_type": "stream",
     "text": [
      "test_loss:0.1454039342235774, test_acc:0.9578\n"
     ]
    },
    {
     "name": "stderr",
     "output_type": "stream",
     "text": [
      "100%|██████████| 235/235 [00:04<00:00, 49.26it/s]\n"
     ]
    },
    {
     "name": "stdout",
     "output_type": "stream",
     "text": [
      "epoch:14, train_loss:0.152985421710826, train_acc:0.9540166666666666\n"
     ]
    },
    {
     "name": "stderr",
     "output_type": "stream",
     "text": [
      "100%|██████████| 40/40 [00:00<00:00, 54.32it/s]\n"
     ]
    },
    {
     "name": "stdout",
     "output_type": "stream",
     "text": [
      "test_loss:0.13280494243372232, test_acc:0.9606\n"
     ]
    },
    {
     "name": "stderr",
     "output_type": "stream",
     "text": [
      "100%|██████████| 235/235 [00:04<00:00, 48.92it/s]\n"
     ]
    },
    {
     "name": "stdout",
     "output_type": "stream",
     "text": [
      "epoch:15, train_loss:0.14404338314495188, train_acc:0.9569666666666666\n"
     ]
    },
    {
     "name": "stderr",
     "output_type": "stream",
     "text": [
      "100%|██████████| 40/40 [00:00<00:00, 55.61it/s]\n"
     ]
    },
    {
     "name": "stdout",
     "output_type": "stream",
     "text": [
      "test_loss:0.12336727832444012, test_acc:0.9629\n"
     ]
    },
    {
     "name": "stderr",
     "output_type": "stream",
     "text": [
      "100%|██████████| 235/235 [00:04<00:00, 48.04it/s]\n"
     ]
    },
    {
     "name": "stdout",
     "output_type": "stream",
     "text": [
      "epoch:16, train_loss:0.13539149705716905, train_acc:0.9585166666666667\n"
     ]
    },
    {
     "name": "stderr",
     "output_type": "stream",
     "text": [
      "100%|██████████| 40/40 [00:00<00:00, 56.26it/s]\n"
     ]
    },
    {
     "name": "stdout",
     "output_type": "stream",
     "text": [
      "test_loss:0.11874700302723795, test_acc:0.9652\n"
     ]
    },
    {
     "name": "stderr",
     "output_type": "stream",
     "text": [
      "100%|██████████| 235/235 [00:04<00:00, 49.35it/s]\n"
     ]
    },
    {
     "name": "stdout",
     "output_type": "stream",
     "text": [
      "epoch:17, train_loss:0.12729811352935244, train_acc:0.9613666666666667\n"
     ]
    },
    {
     "name": "stderr",
     "output_type": "stream",
     "text": [
      "100%|██████████| 40/40 [00:00<00:00, 56.04it/s]\n"
     ]
    },
    {
     "name": "stdout",
     "output_type": "stream",
     "text": [
      "test_loss:0.11633580676279962, test_acc:0.9669\n"
     ]
    },
    {
     "name": "stderr",
     "output_type": "stream",
     "text": [
      "100%|██████████| 235/235 [00:04<00:00, 49.14it/s]\n"
     ]
    },
    {
     "name": "stdout",
     "output_type": "stream",
     "text": [
      "epoch:18, train_loss:0.12095011009814892, train_acc:0.96325\n"
     ]
    },
    {
     "name": "stderr",
     "output_type": "stream",
     "text": [
      "100%|██████████| 40/40 [00:00<00:00, 56.34it/s]\n"
     ]
    },
    {
     "name": "stdout",
     "output_type": "stream",
     "text": [
      "test_loss:0.10109897368820384, test_acc:0.9705\n"
     ]
    },
    {
     "name": "stderr",
     "output_type": "stream",
     "text": [
      "100%|██████████| 235/235 [00:04<00:00, 48.82it/s]\n"
     ]
    },
    {
     "name": "stdout",
     "output_type": "stream",
     "text": [
      "epoch:19, train_loss:0.11501996330124267, train_acc:0.96465\n"
     ]
    },
    {
     "name": "stderr",
     "output_type": "stream",
     "text": [
      "100%|██████████| 40/40 [00:00<00:00, 57.56it/s]\n"
     ]
    },
    {
     "name": "stdout",
     "output_type": "stream",
     "text": [
      "test_loss:0.10057370872236789, test_acc:0.97\n"
     ]
    },
    {
     "data": {
      "image/png": "[encoded data removed]",
      "text/plain": [
       "<Figure size 432x288 with 1 Axes>"
      ]
     },
     "metadata": {
      "needs_background": "light"
     },
     "output_type": "display_data"
    }
   ],
   "source": [
    "device = \"cuda:0\" if torch.cuda.is_available() else \"cpu\"\n",
    "lenet = LeNet(1, 10).to(device)\n",
    "# 定义超参数\n",
    "epochs = 20\n",
    "lr = 1e-4\n",
    "# 定义优化器\n",
    "optimizer = torch.optim.Adam(lenet.parameters(), lr=lr)\n",
    "# 定义损失函数\n",
    "loss_fn = nn.CrossEntropyLoss()\n",
    " \n",
    "# 训练\n",
    "train_acc_list = []\n",
    "test_acc_list = []\n",
    "train_loss_list = []\n",
    "for epoch in range(epochs):\n",
    "    train_loss_epoch = []\n",
    "    acc = 0\n",
    "    for train_data, labels in tqdm(train_dataloader):\n",
    "        # train_data.shape: bt * 1 * 28 * 28\n",
    "        train_data = train_data.to(device)\n",
    "        labels = labels.to(device)\n",
    "        y_hat = lenet(train_data)\n",
    "        train_loss = loss_fn(y_hat, labels)\n",
    "        optimizer.zero_grad()\n",
    "        train_loss.backward()\n",
    "        optimizer.step()\n",
    "        \n",
    "        train_loss_epoch.append(train_loss.cpu().detach().numpy())\n",
    "        right = torch.argmax(y_hat, 1) == labels \n",
    "        acc += right.sum().cpu().detach().numpy()\n",
    "    acc = acc / len(train_dataset)\n",
    "    train_acc_list.append(acc)\n",
    "    train_loss_list.append(sum(train_loss_epoch) / len(train_loss_epoch))\n",
    "    print(f'epoch:{epoch}, train_loss:{sum(train_loss_epoch) / len(train_loss_epoch)}, train_acc:{acc}')\n",
    "    \n",
    "    test_loss_epoch = []\n",
    "    acc = 0\n",
    "    with torch.no_grad():\n",
    "        for test_data, labels in tqdm(test_dataloader):\n",
    "            test_data = test_data.to(device)\n",
    "            labels = labels.to(device)\n",
    "            y_hat = lenet(test_data)\n",
    "            test_loss = loss_fn(y_hat, labels)\n",
    "            test_loss_epoch.append(test_loss.cpu().detach().numpy())\n",
    "            right = torch.argmax(y_hat, 1) == labels \n",
    "            acc += right.sum().cpu().detach().numpy()\n",
    "        acc = acc / len(test_dataset)\n",
    "        test_acc_list.append(acc)\n",
    "        print(f'test_loss:{sum(test_loss_epoch) / len(test_loss_epoch)}, test_acc:{acc}')\n",
    "x = range(epochs)\n",
    "plt.plot(x, train_loss_list, color = 'blue')\n",
    "plt.plot(x, train_acc_list, color='red', linestyle='--')\n",
    "plt.plot(x, test_acc_list, color='green', linestyle='--')\n",
    "plt.show()"
   ]
  },
  {
   "cell_type": "code",
   "execution_count": null,
   "id": "4942d559-b970-4879-bf79-1b814ca90ba9",
   "metadata": {},
   "outputs": [],
   "source": []
  }
 ],
 "metadata": {
  "kernelspec": {
   "display_name": "Python 3 (ipykernel)",
   "language": "python",
   "name": "python3"
  },
  "language_info": {
   "codemirror_mode": {
    "name": "ipython",
    "version": 3
   },
   "file_extension": ".py",
   "mimetype": "text/x-python",
   "name": "python",
   "nbconvert_exporter": "python",
   "pygments_lexer": "ipython3",
   "version": "3.8.10"
  }
 },
 "nbformat": 4,
 "nbformat_minor": 5
}
