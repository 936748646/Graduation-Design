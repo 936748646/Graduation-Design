{
 "cells": [
  {
   "cell_type": "code",
   "execution_count": 1,
   "id": "8c20634a-07bc-413b-bb72-7e983db93cd7",
   "metadata": {},
   "outputs": [],
   "source": [
    "from models.mnist_classifier.lenet import LeNet5, LeNet1\n",
    "import torch\n",
    "import torch.nn as nn\n",
    "import torch.optim as optim\n",
    "from torchvision.datasets.mnist import MNIST\n",
    "from torchvision.datasets import FashionMNIST\n",
    "import torchvision.transforms as transforms\n",
    "from torch.utils.data import DataLoader, Dataset, TensorDataset, ConcatDataset\n",
    "import random\n",
    "import os\n",
    "from  PIL import Image\n",
    "from torch.utils.data import DataLoader\n",
    "import matplotlib.pyplot as plt\n",
    "from torchvision import transforms,utils,datasets\n",
    "import numpy as np\n",
    "from torch import optim\n",
    "import time\n",
    "import torchvision.models as models\n",
    "from pylab import *\n",
    "\n",
    "device = \"cuda:0\" if torch.cuda.is_available() else \"cpu\""
   ]
  },
  {
   "cell_type": "code",
   "execution_count": 2,
   "id": "7e567f9b-844e-4687-be13-b7329b8fa6d6",
   "metadata": {},
   "outputs": [],
   "source": [
    "data_root = './autodl-tmp/mnist'\n",
    "data_train = MNIST(data_root,\n",
    "                   train=True,\n",
    "                   download=True,\n",
    "                   transform=transforms.Compose([\n",
    "                       transforms.Resize((28, 28)),\n",
    "                       transforms.ToTensor(),\n",
    "                       transforms.Normalize((0.5,), (0.5,))]))\n",
    "data_test = MNIST(data_root,\n",
    "                  train=False,\n",
    "                  download=True,\n",
    "                  transform=transforms.Compose([\n",
    "                       transforms.Resize((28, 28)),\n",
    "                       transforms.ToTensor(),\n",
    "                       transforms.Normalize((0.5,), (0.5,))]))"
   ]
  },
  {
   "cell_type": "code",
   "execution_count": 3,
   "id": "5b227cb7-a2ea-4996-b87b-8bb4137bd5f9",
   "metadata": {},
   "outputs": [
    {
     "data": {
      "text/plain": [
       "60000"
      ]
     },
     "execution_count": 3,
     "metadata": {},
     "output_type": "execute_result"
    }
   ],
   "source": [
    "len(data_train)"
   ]
  },
  {
   "cell_type": "code",
   "execution_count": 4,
   "id": "a013c3dd-8f6f-4e21-88d9-dade90d4e1ce",
   "metadata": {},
   "outputs": [],
   "source": [
    "data_train_loader = DataLoader(data_train, batch_size=256, shuffle=True, num_workers=8)\n",
    "data_test_loader = DataLoader(data_test, batch_size=256, num_workers=8)"
   ]
  },
  {
   "cell_type": "code",
   "execution_count": 6,
   "id": "387bb33e-963e-42a8-b5e9-cb69958fb85b",
   "metadata": {},
   "outputs": [],
   "source": [
    "net = LeNet1().to(device)\n",
    "criterion = nn.CrossEntropyLoss()\n",
    "optimizer = optim.Adam(net.parameters(), lr=1e-4)  #学习率，太高如2e-3会立马收敛，cagfuzz里设置为0.05"
   ]
  },
  {
   "cell_type": "code",
   "execution_count": 7,
   "id": "82dea706-b013-49f2-8d27-98497e8d8d2b",
   "metadata": {},
   "outputs": [],
   "source": [
    "epoch = 100"
   ]
  },
  {
   "cell_type": "code",
   "execution_count": 8,
   "id": "ffc6a560-0250-43cc-baf3-11bedd3036f5",
   "metadata": {},
   "outputs": [],
   "source": [
    "def train(epoch):\n",
    "    global cur_batch_win\n",
    "    net.train()\n",
    "    loss_list, batch_list = [], []\n",
    "    total_correct = 0\n",
    "    for i, (images, labels) in enumerate(data_train_loader):\n",
    "        images = images.to(device)\n",
    "        labels = labels.to(device)\n",
    "        optimizer.zero_grad()\n",
    "        output = net(images)\n",
    "        loss = criterion(output, labels)\n",
    "        loss_list.append(loss.detach().cpu().item())\n",
    "        batch_list.append(i+1)\n",
    "        pred = output.detach().max(1)[1]\n",
    "        total_correct += pred.eq(labels.view_as(pred)).sum()\n",
    "        # if i % 10 == 0:\n",
    "            # print('Train - Epoch %d, Batch: %d, Loss: %f' % (epoch, i, loss.detach().cpu().item()))\n",
    "        loss.backward()\n",
    "        optimizer.step()\n",
    "    avg_loss = sum(loss_list) / len(loss_list)\n",
    "    acc = float(total_correct) / len(data_train)\n",
    "    print('Train Avg. Loss: %f, Accuracy: %f' % (avg_loss, acc))\n",
    "    return acc, avg_loss"
   ]
  },
  {
   "cell_type": "code",
   "execution_count": 9,
   "id": "238f212b-8338-434c-9010-01563b6fa39a",
   "metadata": {},
   "outputs": [],
   "source": [
    "def test():\n",
    "    net.eval()\n",
    "    batch_list = []\n",
    "    with torch.no_grad():\n",
    "        total_correct = 0\n",
    "        avg_loss = 0.0\n",
    "        for i, (images, labels) in enumerate(data_test_loader):\n",
    "            images = images.to(device)\n",
    "            labels = labels.to(device)\n",
    "            output = net(images)\n",
    "            avg_loss += criterion(output, labels).sum()\n",
    "            pred = output.detach().max(1)[1]\n",
    "            total_correct += pred.eq(labels.view_as(pred)).sum()\n",
    "            batch_list.append(i+1)\n",
    "\n",
    "    avg_loss /= batch_list[-1]\n",
    "    avg_loss = avg_loss.detach().cpu().item()\n",
    "    acc = float(total_correct) / len(data_test)\n",
    "    print('Test Avg. Loss: %f, Accuracy: %f' % (avg_loss, acc))\n",
    "    return acc, avg_loss"
   ]
  },
  {
   "cell_type": "code",
   "execution_count": 10,
   "id": "9aa3c7e9-5a1a-43f0-9d5f-8da1671f6991",
   "metadata": {},
   "outputs": [],
   "source": [
    "def train_and_test(epoch):\n",
    "    print('training...')\n",
    "    acc, loss = train(epoch)\n",
    "    val_acc, val_loss = test()\n",
    "    return acc, loss, val_acc, val_loss"
   ]
  },
  {
   "cell_type": "code",
   "execution_count": 11,
   "id": "923c79a2-ff0c-42cb-8b61-d30fa9412b2a",
   "metadata": {},
   "outputs": [
    {
     "name": "stdout",
     "output_type": "stream",
     "text": [
      "training...\n",
      "Train Avg. Loss: 2.088921, Accuracy: 0.361183\n",
      "Test Avg. Loss: 1.710006, Accuracy: 0.655700\n",
      "lenet_epoch=0 test_acc=0.656\n",
      "training...\n",
      "Train Avg. Loss: 1.329321, Accuracy: 0.728833\n",
      "Test Avg. Loss: 0.997164, Accuracy: 0.784900\n",
      "lenet_epoch=1 test_acc=0.785\n",
      "training...\n",
      "Train Avg. Loss: 0.869333, Accuracy: 0.799800\n",
      "Test Avg. Loss: 0.721244, Accuracy: 0.829800\n",
      "lenet_epoch=2 test_acc=0.830\n",
      "training...\n",
      "Train Avg. Loss: 0.678908, Accuracy: 0.833333\n",
      "Test Avg. Loss: 0.589118, Accuracy: 0.855200\n",
      "lenet_epoch=3 test_acc=0.855\n",
      "training...\n",
      "Train Avg. Loss: 0.577181, Accuracy: 0.852933\n",
      "Test Avg. Loss: 0.509800, Accuracy: 0.869600\n",
      "lenet_epoch=4 test_acc=0.870\n",
      "training...\n",
      "Train Avg. Loss: 0.510897, Accuracy: 0.866967\n",
      "Test Avg. Loss: 0.455784, Accuracy: 0.881100\n",
      "lenet_epoch=5 test_acc=0.881\n",
      "training...\n",
      "Train Avg. Loss: 0.464181, Accuracy: 0.877450\n",
      "Test Avg. Loss: 0.416168, Accuracy: 0.890000\n",
      "lenet_epoch=6 test_acc=0.890\n",
      "training...\n",
      "Train Avg. Loss: 0.429078, Accuracy: 0.884850\n",
      "Test Avg. Loss: 0.384969, Accuracy: 0.896500\n",
      "lenet_epoch=7 test_acc=0.896\n",
      "training...\n",
      "Train Avg. Loss: 0.400984, Accuracy: 0.891183\n",
      "Test Avg. Loss: 0.360706, Accuracy: 0.902700\n",
      "lenet_epoch=8 test_acc=0.903\n",
      "training...\n",
      "Train Avg. Loss: 0.377736, Accuracy: 0.896467\n",
      "Test Avg. Loss: 0.339240, Accuracy: 0.907400\n",
      "lenet_epoch=9 test_acc=0.907\n",
      "training...\n",
      "Train Avg. Loss: 0.358382, Accuracy: 0.901050\n",
      "Test Avg. Loss: 0.321683, Accuracy: 0.911000\n",
      "lenet_epoch=10 test_acc=0.911\n",
      "training...\n",
      "Train Avg. Loss: 0.341133, Accuracy: 0.905100\n",
      "Test Avg. Loss: 0.306279, Accuracy: 0.915000\n",
      "lenet_epoch=11 test_acc=0.915\n",
      "training...\n",
      "Train Avg. Loss: 0.325976, Accuracy: 0.909133\n",
      "Test Avg. Loss: 0.292102, Accuracy: 0.917700\n",
      "lenet_epoch=12 test_acc=0.918\n",
      "training...\n",
      "Train Avg. Loss: 0.313091, Accuracy: 0.912433\n",
      "Test Avg. Loss: 0.280090, Accuracy: 0.921000\n",
      "lenet_epoch=13 test_acc=0.921\n",
      "training...\n",
      "Train Avg. Loss: 0.300772, Accuracy: 0.915883\n",
      "Test Avg. Loss: 0.268804, Accuracy: 0.923300\n",
      "lenet_epoch=14 test_acc=0.923\n",
      "training...\n",
      "Train Avg. Loss: 0.289281, Accuracy: 0.918917\n",
      "Test Avg. Loss: 0.258622, Accuracy: 0.926900\n",
      "lenet_epoch=15 test_acc=0.927\n",
      "training...\n",
      "Train Avg. Loss: 0.279141, Accuracy: 0.921833\n",
      "Test Avg. Loss: 0.249155, Accuracy: 0.929900\n",
      "lenet_epoch=16 test_acc=0.930\n",
      "training...\n",
      "Train Avg. Loss: 0.269693, Accuracy: 0.924167\n",
      "Test Avg. Loss: 0.241882, Accuracy: 0.931900\n",
      "lenet_epoch=17 test_acc=0.932\n",
      "training...\n",
      "Train Avg. Loss: 0.260846, Accuracy: 0.926717\n",
      "Test Avg. Loss: 0.232774, Accuracy: 0.934700\n",
      "lenet_epoch=18 test_acc=0.935\n",
      "training...\n",
      "Train Avg. Loss: 0.253012, Accuracy: 0.928900\n",
      "Test Avg. Loss: 0.225017, Accuracy: 0.936000\n",
      "lenet_epoch=19 test_acc=0.936\n",
      "training...\n",
      "Train Avg. Loss: 0.245336, Accuracy: 0.931167\n",
      "Test Avg. Loss: 0.218052, Accuracy: 0.937900\n",
      "lenet_epoch=20 test_acc=0.938\n",
      "training...\n",
      "Train Avg. Loss: 0.237932, Accuracy: 0.932950\n",
      "Test Avg. Loss: 0.211784, Accuracy: 0.939700\n",
      "lenet_epoch=21 test_acc=0.940\n",
      "training...\n",
      "Train Avg. Loss: 0.231179, Accuracy: 0.934833\n",
      "Test Avg. Loss: 0.205422, Accuracy: 0.940800\n",
      "lenet_epoch=22 test_acc=0.941\n",
      "training...\n",
      "Train Avg. Loss: 0.224980, Accuracy: 0.936333\n",
      "Test Avg. Loss: 0.200040, Accuracy: 0.943100\n",
      "lenet_epoch=23 test_acc=0.943\n",
      "training...\n",
      "Train Avg. Loss: 0.218876, Accuracy: 0.937933\n",
      "Test Avg. Loss: 0.194839, Accuracy: 0.944700\n",
      "lenet_epoch=24 test_acc=0.945\n",
      "training...\n",
      "Train Avg. Loss: 0.213326, Accuracy: 0.939933\n",
      "Test Avg. Loss: 0.189480, Accuracy: 0.946400\n",
      "lenet_epoch=25 test_acc=0.946\n",
      "training...\n",
      "Train Avg. Loss: 0.208285, Accuracy: 0.941200\n",
      "Test Avg. Loss: 0.184425, Accuracy: 0.947700\n",
      "lenet_epoch=26 test_acc=0.948\n",
      "training...\n",
      "Train Avg. Loss: 0.202577, Accuracy: 0.942917\n",
      "Test Avg. Loss: 0.179844, Accuracy: 0.949700\n",
      "lenet_epoch=27 test_acc=0.950\n",
      "training...\n",
      "Train Avg. Loss: 0.197959, Accuracy: 0.943733\n",
      "Test Avg. Loss: 0.175229, Accuracy: 0.950100\n",
      "lenet_epoch=28 test_acc=0.950\n",
      "training...\n",
      "Train Avg. Loss: 0.193582, Accuracy: 0.945167\n",
      "Test Avg. Loss: 0.171102, Accuracy: 0.951500\n",
      "lenet_epoch=29 test_acc=0.952\n",
      "training...\n",
      "Train Avg. Loss: 0.189113, Accuracy: 0.946100\n",
      "Test Avg. Loss: 0.167496, Accuracy: 0.951600\n",
      "lenet_epoch=30 test_acc=0.952\n",
      "training...\n",
      "Train Avg. Loss: 0.185140, Accuracy: 0.947717\n",
      "Test Avg. Loss: 0.163991, Accuracy: 0.953000\n",
      "lenet_epoch=31 test_acc=0.953\n",
      "training...\n",
      "Train Avg. Loss: 0.180911, Accuracy: 0.948417\n",
      "Test Avg. Loss: 0.159885, Accuracy: 0.953400\n",
      "lenet_epoch=32 test_acc=0.953\n",
      "training...\n",
      "Train Avg. Loss: 0.177344, Accuracy: 0.949750\n",
      "Test Avg. Loss: 0.156996, Accuracy: 0.954700\n",
      "lenet_epoch=33 test_acc=0.955\n",
      "training...\n",
      "Train Avg. Loss: 0.173425, Accuracy: 0.950783\n",
      "Test Avg. Loss: 0.153679, Accuracy: 0.955500\n",
      "lenet_epoch=34 test_acc=0.956\n",
      "training...\n",
      "Train Avg. Loss: 0.170384, Accuracy: 0.951883\n",
      "Test Avg. Loss: 0.150312, Accuracy: 0.955900\n",
      "lenet_epoch=35 test_acc=0.956\n",
      "training...\n",
      "Train Avg. Loss: 0.167027, Accuracy: 0.952917\n",
      "Test Avg. Loss: 0.147324, Accuracy: 0.956700\n",
      "lenet_epoch=36 test_acc=0.957\n",
      "training...\n",
      "Train Avg. Loss: 0.163560, Accuracy: 0.953717\n",
      "Test Avg. Loss: 0.144984, Accuracy: 0.957600\n",
      "lenet_epoch=37 test_acc=0.958\n",
      "training...\n",
      "Train Avg. Loss: 0.160485, Accuracy: 0.954900\n",
      "Test Avg. Loss: 0.141929, Accuracy: 0.958000\n",
      "lenet_epoch=38 test_acc=0.958\n",
      "training...\n",
      "Train Avg. Loss: 0.157553, Accuracy: 0.955333\n",
      "Test Avg. Loss: 0.139139, Accuracy: 0.959000\n",
      "lenet_epoch=39 test_acc=0.959\n",
      "training...\n",
      "Train Avg. Loss: 0.154986, Accuracy: 0.956150\n",
      "Test Avg. Loss: 0.136506, Accuracy: 0.960300\n",
      "lenet_epoch=40 test_acc=0.960\n",
      "training...\n",
      "Train Avg. Loss: 0.152063, Accuracy: 0.957033\n",
      "Test Avg. Loss: 0.134150, Accuracy: 0.960800\n",
      "lenet_epoch=41 test_acc=0.961\n",
      "training...\n",
      "Train Avg. Loss: 0.149380, Accuracy: 0.957617\n",
      "Test Avg. Loss: 0.131826, Accuracy: 0.961400\n",
      "lenet_epoch=42 test_acc=0.961\n",
      "training...\n",
      "Train Avg. Loss: 0.147052, Accuracy: 0.958600\n",
      "Test Avg. Loss: 0.129407, Accuracy: 0.962100\n",
      "lenet_epoch=43 test_acc=0.962\n",
      "training...\n",
      "Train Avg. Loss: 0.144312, Accuracy: 0.959083\n",
      "Test Avg. Loss: 0.127929, Accuracy: 0.962700\n",
      "lenet_epoch=44 test_acc=0.963\n",
      "training...\n",
      "Train Avg. Loss: 0.142269, Accuracy: 0.959817\n",
      "Test Avg. Loss: 0.125102, Accuracy: 0.963800\n",
      "lenet_epoch=45 test_acc=0.964\n",
      "training...\n",
      "Train Avg. Loss: 0.139899, Accuracy: 0.960350\n",
      "Test Avg. Loss: 0.123142, Accuracy: 0.964600\n",
      "lenet_epoch=46 test_acc=0.965\n",
      "training...\n",
      "Train Avg. Loss: 0.137968, Accuracy: 0.961000\n",
      "Test Avg. Loss: 0.121229, Accuracy: 0.964700\n",
      "lenet_epoch=47 test_acc=0.965\n",
      "training...\n",
      "Train Avg. Loss: 0.135560, Accuracy: 0.961967\n",
      "Test Avg. Loss: 0.119384, Accuracy: 0.965900\n",
      "lenet_epoch=48 test_acc=0.966\n",
      "training...\n",
      "Train Avg. Loss: 0.133467, Accuracy: 0.962300\n",
      "Test Avg. Loss: 0.117259, Accuracy: 0.965500\n",
      "lenet_epoch=49 test_acc=0.966\n",
      "training...\n",
      "Train Avg. Loss: 0.131608, Accuracy: 0.962800\n",
      "Test Avg. Loss: 0.115285, Accuracy: 0.966500\n",
      "lenet_epoch=50 test_acc=0.967\n",
      "training...\n",
      "Train Avg. Loss: 0.129670, Accuracy: 0.963500\n",
      "Test Avg. Loss: 0.113774, Accuracy: 0.966500\n",
      "lenet_epoch=51 test_acc=0.967\n",
      "training...\n",
      "Train Avg. Loss: 0.127650, Accuracy: 0.963967\n",
      "Test Avg. Loss: 0.112418, Accuracy: 0.967400\n",
      "lenet_epoch=52 test_acc=0.967\n",
      "training...\n",
      "Train Avg. Loss: 0.126292, Accuracy: 0.964500\n",
      "Test Avg. Loss: 0.110890, Accuracy: 0.967500\n",
      "lenet_epoch=53 test_acc=0.968\n",
      "training...\n",
      "Train Avg. Loss: 0.124051, Accuracy: 0.964983\n",
      "Test Avg. Loss: 0.108808, Accuracy: 0.968300\n",
      "lenet_epoch=54 test_acc=0.968\n",
      "training...\n",
      "Train Avg. Loss: 0.122445, Accuracy: 0.965300\n",
      "Test Avg. Loss: 0.107502, Accuracy: 0.969000\n",
      "lenet_epoch=55 test_acc=0.969\n",
      "training...\n",
      "Train Avg. Loss: 0.120875, Accuracy: 0.965983\n",
      "Test Avg. Loss: 0.106632, Accuracy: 0.969100\n",
      "lenet_epoch=56 test_acc=0.969\n",
      "training...\n",
      "Train Avg. Loss: 0.119974, Accuracy: 0.966383\n",
      "Test Avg. Loss: 0.104888, Accuracy: 0.969200\n",
      "lenet_epoch=57 test_acc=0.969\n",
      "training...\n",
      "Train Avg. Loss: 0.117748, Accuracy: 0.966567\n",
      "Test Avg. Loss: 0.103755, Accuracy: 0.969600\n",
      "lenet_epoch=58 test_acc=0.970\n",
      "training...\n",
      "Train Avg. Loss: 0.116302, Accuracy: 0.967167\n",
      "Test Avg. Loss: 0.101981, Accuracy: 0.970100\n",
      "lenet_epoch=59 test_acc=0.970\n",
      "training...\n",
      "Train Avg. Loss: 0.114869, Accuracy: 0.967350\n",
      "Test Avg. Loss: 0.100738, Accuracy: 0.970800\n",
      "lenet_epoch=60 test_acc=0.971\n",
      "training...\n",
      "Train Avg. Loss: 0.113664, Accuracy: 0.967733\n",
      "Test Avg. Loss: 0.099590, Accuracy: 0.971000\n",
      "lenet_epoch=61 test_acc=0.971\n",
      "training...\n",
      "Train Avg. Loss: 0.111933, Accuracy: 0.968217\n",
      "Test Avg. Loss: 0.098323, Accuracy: 0.971100\n",
      "lenet_epoch=62 test_acc=0.971\n",
      "training...\n",
      "Train Avg. Loss: 0.110659, Accuracy: 0.968917\n",
      "Test Avg. Loss: 0.097435, Accuracy: 0.971400\n",
      "lenet_epoch=63 test_acc=0.971\n",
      "training...\n",
      "Train Avg. Loss: 0.109384, Accuracy: 0.968983\n",
      "Test Avg. Loss: 0.096567, Accuracy: 0.971900\n",
      "lenet_epoch=64 test_acc=0.972\n",
      "training...\n",
      "Train Avg. Loss: 0.108120, Accuracy: 0.969367\n",
      "Test Avg. Loss: 0.095203, Accuracy: 0.972500\n",
      "lenet_epoch=65 test_acc=0.973\n",
      "training...\n",
      "Train Avg. Loss: 0.106988, Accuracy: 0.969783\n",
      "Test Avg. Loss: 0.094266, Accuracy: 0.972200\n",
      "lenet_epoch=66 test_acc=0.972\n",
      "training...\n",
      "Train Avg. Loss: 0.105731, Accuracy: 0.970067\n",
      "Test Avg. Loss: 0.093054, Accuracy: 0.972800\n",
      "lenet_epoch=67 test_acc=0.973\n",
      "training...\n",
      "Train Avg. Loss: 0.104657, Accuracy: 0.970133\n",
      "Test Avg. Loss: 0.092190, Accuracy: 0.972700\n",
      "lenet_epoch=68 test_acc=0.973\n",
      "training...\n",
      "Train Avg. Loss: 0.103376, Accuracy: 0.970667\n",
      "Test Avg. Loss: 0.091307, Accuracy: 0.973000\n",
      "lenet_epoch=69 test_acc=0.973\n",
      "training...\n",
      "Train Avg. Loss: 0.102267, Accuracy: 0.970933\n",
      "Test Avg. Loss: 0.089970, Accuracy: 0.973300\n",
      "lenet_epoch=70 test_acc=0.973\n",
      "training...\n",
      "Train Avg. Loss: 0.101361, Accuracy: 0.971200\n",
      "Test Avg. Loss: 0.089076, Accuracy: 0.973700\n",
      "lenet_epoch=71 test_acc=0.974\n",
      "training...\n",
      "Train Avg. Loss: 0.100230, Accuracy: 0.971633\n",
      "Test Avg. Loss: 0.088494, Accuracy: 0.974100\n",
      "lenet_epoch=72 test_acc=0.974\n",
      "training...\n",
      "Train Avg. Loss: 0.099490, Accuracy: 0.971750\n",
      "Test Avg. Loss: 0.087274, Accuracy: 0.974400\n",
      "lenet_epoch=73 test_acc=0.974\n",
      "training...\n",
      "Train Avg. Loss: 0.098199, Accuracy: 0.972200\n",
      "Test Avg. Loss: 0.086762, Accuracy: 0.974300\n",
      "lenet_epoch=74 test_acc=0.974\n",
      "training...\n",
      "Train Avg. Loss: 0.097167, Accuracy: 0.972183\n",
      "Test Avg. Loss: 0.086600, Accuracy: 0.973800\n",
      "lenet_epoch=75 test_acc=0.974\n",
      "training...\n",
      "Train Avg. Loss: 0.096500, Accuracy: 0.972217\n",
      "Test Avg. Loss: 0.085185, Accuracy: 0.974800\n",
      "lenet_epoch=76 test_acc=0.975\n",
      "training...\n",
      "Train Avg. Loss: 0.095271, Accuracy: 0.972500\n",
      "Test Avg. Loss: 0.084025, Accuracy: 0.975400\n",
      "lenet_epoch=77 test_acc=0.975\n",
      "training...\n",
      "Train Avg. Loss: 0.094334, Accuracy: 0.973000\n",
      "Test Avg. Loss: 0.083133, Accuracy: 0.975400\n",
      "lenet_epoch=78 test_acc=0.975\n",
      "training...\n",
      "Train Avg. Loss: 0.093443, Accuracy: 0.973300\n",
      "Test Avg. Loss: 0.082587, Accuracy: 0.975500\n",
      "lenet_epoch=79 test_acc=0.976\n",
      "training...\n",
      "Train Avg. Loss: 0.092730, Accuracy: 0.973400\n",
      "Test Avg. Loss: 0.082107, Accuracy: 0.975300\n",
      "lenet_epoch=80 test_acc=0.975\n",
      "training...\n",
      "Train Avg. Loss: 0.091956, Accuracy: 0.973550\n",
      "Test Avg. Loss: 0.081092, Accuracy: 0.976100\n",
      "lenet_epoch=81 test_acc=0.976\n",
      "training...\n",
      "Train Avg. Loss: 0.091022, Accuracy: 0.973900\n",
      "Test Avg. Loss: 0.080674, Accuracy: 0.976000\n",
      "lenet_epoch=82 test_acc=0.976\n",
      "training...\n",
      "Train Avg. Loss: 0.090296, Accuracy: 0.974133\n",
      "Test Avg. Loss: 0.079921, Accuracy: 0.976500\n",
      "lenet_epoch=83 test_acc=0.977\n",
      "training...\n",
      "Train Avg. Loss: 0.089610, Accuracy: 0.974250\n",
      "Test Avg. Loss: 0.078994, Accuracy: 0.976000\n",
      "lenet_epoch=84 test_acc=0.976\n",
      "training...\n",
      "Train Avg. Loss: 0.088733, Accuracy: 0.974600\n",
      "Test Avg. Loss: 0.078394, Accuracy: 0.976600\n",
      "lenet_epoch=85 test_acc=0.977\n",
      "training...\n",
      "Train Avg. Loss: 0.088017, Accuracy: 0.974967\n",
      "Test Avg. Loss: 0.077692, Accuracy: 0.976900\n",
      "lenet_epoch=86 test_acc=0.977\n",
      "training...\n",
      "Train Avg. Loss: 0.087238, Accuracy: 0.975100\n",
      "Test Avg. Loss: 0.077024, Accuracy: 0.976500\n",
      "lenet_epoch=87 test_acc=0.977\n",
      "training...\n",
      "Train Avg. Loss: 0.086400, Accuracy: 0.975217\n",
      "Test Avg. Loss: 0.076799, Accuracy: 0.976800\n",
      "lenet_epoch=88 test_acc=0.977\n",
      "training...\n",
      "Train Avg. Loss: 0.085767, Accuracy: 0.975383\n",
      "Test Avg. Loss: 0.075706, Accuracy: 0.977000\n",
      "lenet_epoch=89 test_acc=0.977\n",
      "training...\n",
      "Train Avg. Loss: 0.085060, Accuracy: 0.975650\n",
      "Test Avg. Loss: 0.075263, Accuracy: 0.977800\n",
      "lenet_epoch=90 test_acc=0.978\n",
      "training...\n",
      "Train Avg. Loss: 0.084393, Accuracy: 0.975950\n",
      "Test Avg. Loss: 0.074979, Accuracy: 0.977000\n",
      "lenet_epoch=91 test_acc=0.977\n",
      "training...\n",
      "Train Avg. Loss: 0.083754, Accuracy: 0.976117\n",
      "Test Avg. Loss: 0.074105, Accuracy: 0.977500\n",
      "lenet_epoch=92 test_acc=0.978\n",
      "training...\n",
      "Train Avg. Loss: 0.083149, Accuracy: 0.976333\n",
      "Test Avg. Loss: 0.073781, Accuracy: 0.977300\n",
      "lenet_epoch=93 test_acc=0.977\n",
      "training...\n",
      "Train Avg. Loss: 0.082676, Accuracy: 0.976167\n",
      "Test Avg. Loss: 0.073215, Accuracy: 0.978200\n",
      "lenet_epoch=94 test_acc=0.978\n",
      "training...\n",
      "Train Avg. Loss: 0.082023, Accuracy: 0.976717\n",
      "Test Avg. Loss: 0.072862, Accuracy: 0.978300\n",
      "lenet_epoch=95 test_acc=0.978\n",
      "training...\n",
      "Train Avg. Loss: 0.081293, Accuracy: 0.976800\n",
      "Test Avg. Loss: 0.072242, Accuracy: 0.978100\n",
      "lenet_epoch=96 test_acc=0.978\n",
      "training...\n",
      "Train Avg. Loss: 0.080916, Accuracy: 0.976883\n",
      "Test Avg. Loss: 0.071686, Accuracy: 0.978300\n",
      "lenet_epoch=97 test_acc=0.978\n",
      "training...\n",
      "Train Avg. Loss: 0.080047, Accuracy: 0.977050\n",
      "Test Avg. Loss: 0.071063, Accuracy: 0.978300\n",
      "lenet_epoch=98 test_acc=0.978\n",
      "training...\n",
      "Train Avg. Loss: 0.079562, Accuracy: 0.977017\n",
      "Test Avg. Loss: 0.070544, Accuracy: 0.978700\n",
      "lenet_epoch=99 test_acc=0.979\n"
     ]
    }
   ],
   "source": [
    "acc, loss, val_acc, val_loss = [], [], [], []\n",
    "\n",
    "for e in range(epoch):\n",
    "    a, b, c, d = train_and_test(e)\n",
    "    acc.append(a)\n",
    "    loss.append(b)\n",
    "    val_acc.append(c)\n",
    "    val_loss.append(d)\n",
    "    print(f'lenet_epoch={e} test_acc={c:0.3f}')\n",
    "    #if e % 2 == 0:\n",
    "     #   torch.save(net.state_dict(), f'autodl-tmp/save_model/mnist/Lenet5/lenet_epoch={e}_test_acc={acc:0.3f}.pth')\n",
    "#    torch.save(net.state_dict(), f'autodl-tmp/save_model/fashion/Lenet1/lenet_epoch={e}_test_acc={acc:0.3f}.pth')"
   ]
  },
  {
   "cell_type": "code",
   "execution_count": 27,
   "id": "49f64f87-12ba-4190-8f1e-bb8021599f56",
   "metadata": {},
   "outputs": [
    {
     "data": {
      "image/png": "[encoded data removed]",
      "text/plain": [
       "<Figure size 432x288 with 1 Axes>"
      ]
     },
     "metadata": {
      "needs_background": "light"
     },
     "output_type": "display_data"
    }
   ],
   "source": [
    "x = np.arange(epoch)\n",
    "plt.plot(x, acc, color='red', linestyle='--', label=\"acc\")\n",
    "plt.plot(x, loss, color='green', label=\"loss\")\n",
    "plt.plot(x, val_acc, color='blue', linestyle='dotted', label=\"val acc\")\n",
    "plt.plot(x, val_loss, color='indigo', linestyle='dashdot', label=\"val loss\")\n",
    "plt.title('MNIST-Le1', fontsize=14, y=-0.27)\n",
    "plt.xlabel('Epoch')\n",
    "plt.ylabel('Acc-Loss')\n",
    "plt.xticks(ticks=[0,20,40,60,80,100])\n",
    "# 添加图例\n",
    "plt.legend(loc='center',bbox_to_anchor=(0.5, 1.1),ncol=2)\n",
    "plt.show()"
   ]
  },
  {
   "cell_type": "code",
   "execution_count": 29,
   "id": "f3bcb76f-b1a9-4ca3-ab4b-9b22d21767a1",
   "metadata": {},
   "outputs": [
    {
     "data": {
      "text/plain": [
       "[0.6557,\n",
       " 0.7849,\n",
       " 0.8298,\n",
       " 0.8552,\n",
       " 0.8696,\n",
       " 0.8811,\n",
       " 0.89,\n",
       " 0.8965,\n",
       " 0.9027,\n",
       " 0.9074,\n",
       " 0.911,\n",
       " 0.915,\n",
       " 0.9177,\n",
       " 0.921,\n",
       " 0.9233,\n",
       " 0.9269,\n",
       " 0.9299,\n",
       " 0.9319,\n",
       " 0.9347,\n",
       " 0.936,\n",
       " 0.9379,\n",
       " 0.9397,\n",
       " 0.9408,\n",
       " 0.9431,\n",
       " 0.9447,\n",
       " 0.9464,\n",
       " 0.9477,\n",
       " 0.9497,\n",
       " 0.9501,\n",
       " 0.9515,\n",
       " 0.9516,\n",
       " 0.953,\n",
       " 0.9534,\n",
       " 0.9547,\n",
       " 0.9555,\n",
       " 0.9559,\n",
       " 0.9567,\n",
       " 0.9576,\n",
       " 0.958,\n",
       " 0.959,\n",
       " 0.9603,\n",
       " 0.9608,\n",
       " 0.9614,\n",
       " 0.9621,\n",
       " 0.9627,\n",
       " 0.9638,\n",
       " 0.9646,\n",
       " 0.9647,\n",
       " 0.9659,\n",
       " 0.9655,\n",
       " 0.9665,\n",
       " 0.9665,\n",
       " 0.9674,\n",
       " 0.9675,\n",
       " 0.9683,\n",
       " 0.969,\n",
       " 0.9691,\n",
       " 0.9692,\n",
       " 0.9696,\n",
       " 0.9701,\n",
       " 0.9708,\n",
       " 0.971,\n",
       " 0.9711,\n",
       " 0.9714,\n",
       " 0.9719,\n",
       " 0.9725,\n",
       " 0.9722,\n",
       " 0.9728,\n",
       " 0.9727,\n",
       " 0.973,\n",
       " 0.9733,\n",
       " 0.9737,\n",
       " 0.9741,\n",
       " 0.9744,\n",
       " 0.9743,\n",
       " 0.9738,\n",
       " 0.9748,\n",
       " 0.9754,\n",
       " 0.9754,\n",
       " 0.9755,\n",
       " 0.9753,\n",
       " 0.9761,\n",
       " 0.976,\n",
       " 0.9765,\n",
       " 0.976,\n",
       " 0.9766,\n",
       " 0.9769,\n",
       " 0.9765,\n",
       " 0.9768,\n",
       " 0.977,\n",
       " 0.9778,\n",
       " 0.977,\n",
       " 0.9775,\n",
       " 0.9773,\n",
       " 0.9782,\n",
       " 0.9783,\n",
       " 0.9781,\n",
       " 0.9783,\n",
       " 0.9783,\n",
       " 0.9787]"
      ]
     },
     "execution_count": 29,
     "metadata": {},
     "output_type": "execute_result"
    }
   ],
   "source": [
    "val_acc"
   ]
  },
  {
   "cell_type": "code",
   "execution_count": 30,
   "id": "f59a63b0-2215-43ea-867b-25cea45b2f0b",
   "metadata": {},
   "outputs": [
    {
     "data": {
      "text/plain": [
       "[1.7100056409835815,\n",
       " 0.9971640706062317,\n",
       " 0.721243679523468,\n",
       " 0.589118480682373,\n",
       " 0.5097996592521667,\n",
       " 0.45578432083129883,\n",
       " 0.4161677956581116,\n",
       " 0.38496947288513184,\n",
       " 0.3607056438922882,\n",
       " 0.33923986554145813,\n",
       " 0.32168257236480713,\n",
       " 0.3062794804573059,\n",
       " 0.29210230708122253,\n",
       " 0.2800903022289276,\n",
       " 0.26880359649658203,\n",
       " 0.2586222290992737,\n",
       " 0.2491549551486969,\n",
       " 0.24188180267810822,\n",
       " 0.23277416825294495,\n",
       " 0.2250174582004547,\n",
       " 0.21805249154567719,\n",
       " 0.21178355813026428,\n",
       " 0.20542214810848236,\n",
       " 0.2000395804643631,\n",
       " 0.1948394626379013,\n",
       " 0.1894795000553131,\n",
       " 0.18442454934120178,\n",
       " 0.17984415590763092,\n",
       " 0.1752290576696396,\n",
       " 0.17110173404216766,\n",
       " 0.16749612987041473,\n",
       " 0.16399066150188446,\n",
       " 0.159885436296463,\n",
       " 0.15699586272239685,\n",
       " 0.15367893874645233,\n",
       " 0.15031227469444275,\n",
       " 0.14732448756694794,\n",
       " 0.1449839472770691,\n",
       " 0.1419285237789154,\n",
       " 0.13913868367671967,\n",
       " 0.13650570809841156,\n",
       " 0.13415022194385529,\n",
       " 0.13182556629180908,\n",
       " 0.1294068545103073,\n",
       " 0.12792915105819702,\n",
       " 0.12510210275650024,\n",
       " 0.12314166873693466,\n",
       " 0.12122941017150879,\n",
       " 0.11938352882862091,\n",
       " 0.11725916713476181,\n",
       " 0.11528467386960983,\n",
       " 0.11377425491809845,\n",
       " 0.11241767555475235,\n",
       " 0.11089024692773819,\n",
       " 0.10880819708108902,\n",
       " 0.10750160366296768,\n",
       " 0.10663194954395294,\n",
       " 0.10488773882389069,\n",
       " 0.10375478118658066,\n",
       " 0.10198060423135757,\n",
       " 0.10073830932378769,\n",
       " 0.0995902419090271,\n",
       " 0.09832289069890976,\n",
       " 0.09743493050336838,\n",
       " 0.09656700491905212,\n",
       " 0.0952034667134285,\n",
       " 0.09426600486040115,\n",
       " 0.0930541381239891,\n",
       " 0.0921897143125534,\n",
       " 0.09130703657865524,\n",
       " 0.08997011929750443,\n",
       " 0.08907587081193924,\n",
       " 0.08849389106035233,\n",
       " 0.08727417886257172,\n",
       " 0.08676157146692276,\n",
       " 0.0865996703505516,\n",
       " 0.08518488705158234,\n",
       " 0.08402540534734726,\n",
       " 0.08313296735286713,\n",
       " 0.08258683234453201,\n",
       " 0.0821070447564125,\n",
       " 0.081092469394207,\n",
       " 0.08067401498556137,\n",
       " 0.07992126047611237,\n",
       " 0.07899387925863266,\n",
       " 0.07839372009038925,\n",
       " 0.07769166678190231,\n",
       " 0.07702399790287018,\n",
       " 0.07679872959852219,\n",
       " 0.07570558041334152,\n",
       " 0.07526256144046783,\n",
       " 0.07497920095920563,\n",
       " 0.07410455495119095,\n",
       " 0.07378070801496506,\n",
       " 0.07321508973836899,\n",
       " 0.07286151498556137,\n",
       " 0.07224169373512268,\n",
       " 0.07168568670749664,\n",
       " 0.07106271386146545,\n",
       " 0.07054385542869568]"
      ]
     },
     "execution_count": 30,
     "metadata": {},
     "output_type": "execute_result"
    }
   ],
   "source": [
    "val_loss"
   ]
  },
  {
   "cell_type": "code",
   "execution_count": 31,
   "id": "d312789a-d9e4-4f53-8b15-7d6f512933ff",
   "metadata": {},
   "outputs": [
    {
     "data": {
      "text/plain": [
       "[0.36118333333333336,\n",
       " 0.7288333333333333,\n",
       " 0.7998,\n",
       " 0.8333333333333334,\n",
       " 0.8529333333333333,\n",
       " 0.8669666666666667,\n",
       " 0.87745,\n",
       " 0.88485,\n",
       " 0.8911833333333333,\n",
       " 0.8964666666666666,\n",
       " 0.90105,\n",
       " 0.9051,\n",
       " 0.9091333333333333,\n",
       " 0.9124333333333333,\n",
       " 0.9158833333333334,\n",
       " 0.9189166666666667,\n",
       " 0.9218333333333333,\n",
       " 0.9241666666666667,\n",
       " 0.9267166666666666,\n",
       " 0.9289,\n",
       " 0.9311666666666667,\n",
       " 0.93295,\n",
       " 0.9348333333333333,\n",
       " 0.9363333333333334,\n",
       " 0.9379333333333333,\n",
       " 0.9399333333333333,\n",
       " 0.9412,\n",
       " 0.9429166666666666,\n",
       " 0.9437333333333333,\n",
       " 0.9451666666666667,\n",
       " 0.9461,\n",
       " 0.9477166666666667,\n",
       " 0.9484166666666667,\n",
       " 0.94975,\n",
       " 0.9507833333333333,\n",
       " 0.9518833333333333,\n",
       " 0.9529166666666666,\n",
       " 0.9537166666666667,\n",
       " 0.9549,\n",
       " 0.9553333333333334,\n",
       " 0.95615,\n",
       " 0.9570333333333333,\n",
       " 0.9576166666666667,\n",
       " 0.9586,\n",
       " 0.9590833333333333,\n",
       " 0.9598166666666667,\n",
       " 0.96035,\n",
       " 0.961,\n",
       " 0.9619666666666666,\n",
       " 0.9623,\n",
       " 0.9628,\n",
       " 0.9635,\n",
       " 0.9639666666666666,\n",
       " 0.9645,\n",
       " 0.9649833333333333,\n",
       " 0.9653,\n",
       " 0.9659833333333333,\n",
       " 0.9663833333333334,\n",
       " 0.9665666666666667,\n",
       " 0.9671666666666666,\n",
       " 0.96735,\n",
       " 0.9677333333333333,\n",
       " 0.9682166666666666,\n",
       " 0.9689166666666666,\n",
       " 0.9689833333333333,\n",
       " 0.9693666666666667,\n",
       " 0.9697833333333333,\n",
       " 0.9700666666666666,\n",
       " 0.9701333333333333,\n",
       " 0.9706666666666667,\n",
       " 0.9709333333333333,\n",
       " 0.9712,\n",
       " 0.9716333333333333,\n",
       " 0.97175,\n",
       " 0.9722,\n",
       " 0.9721833333333333,\n",
       " 0.9722166666666666,\n",
       " 0.9725,\n",
       " 0.973,\n",
       " 0.9733,\n",
       " 0.9734,\n",
       " 0.97355,\n",
       " 0.9739,\n",
       " 0.9741333333333333,\n",
       " 0.97425,\n",
       " 0.9746,\n",
       " 0.9749666666666666,\n",
       " 0.9751,\n",
       " 0.9752166666666666,\n",
       " 0.9753833333333334,\n",
       " 0.97565,\n",
       " 0.97595,\n",
       " 0.9761166666666666,\n",
       " 0.9763333333333334,\n",
       " 0.9761666666666666,\n",
       " 0.9767166666666667,\n",
       " 0.9768,\n",
       " 0.9768833333333333,\n",
       " 0.97705,\n",
       " 0.9770166666666666]"
      ]
     },
     "execution_count": 31,
     "metadata": {},
     "output_type": "execute_result"
    }
   ],
   "source": [
    "acc"
   ]
  },
  {
   "cell_type": "code",
   "execution_count": 32,
   "id": "e3d57987-6127-47a2-a63d-359f173ba510",
   "metadata": {},
   "outputs": [
    {
     "data": {
      "text/plain": [
       "[2.088920597827181,\n",
       " 1.3293205634076544,\n",
       " 0.8693325527170871,\n",
       " 0.6789082151778201,\n",
       " 0.5771806366900181,\n",
       " 0.510897177965083,\n",
       " 0.46418136916262037,\n",
       " 0.4290776661101808,\n",
       " 0.40098398112236183,\n",
       " 0.3777357157240523,\n",
       " 0.35838204888587305,\n",
       " 0.3411328555421626,\n",
       " 0.3259762613063163,\n",
       " 0.3130909794822652,\n",
       " 0.3007724209034697,\n",
       " 0.2892808836825351,\n",
       " 0.27914095184904464,\n",
       " 0.2696934602996136,\n",
       " 0.2608464593582965,\n",
       " 0.25301243516993016,\n",
       " 0.2453361688776219,\n",
       " 0.23793249041476147,\n",
       " 0.23117895418025078,\n",
       " 0.22497987499896516,\n",
       " 0.2188756467180049,\n",
       " 0.21332615214459438,\n",
       " 0.20828516090169866,\n",
       " 0.20257735972074753,\n",
       " 0.19795851961095282,\n",
       " 0.19358160270655408,\n",
       " 0.18911317336432476,\n",
       " 0.18514037360536292,\n",
       " 0.18091055186505015,\n",
       " 0.17734369489740817,\n",
       " 0.17342467783613408,\n",
       " 0.17038358094844414,\n",
       " 0.16702729964509924,\n",
       " 0.16356032639741896,\n",
       " 0.16048521076111083,\n",
       " 0.15755306799361046,\n",
       " 0.15498553647639904,\n",
       " 0.15206337409450651,\n",
       " 0.14938025186036497,\n",
       " 0.14705245532888048,\n",
       " 0.14431189834437472,\n",
       " 0.14226945077485226,\n",
       " 0.13989910611763914,\n",
       " 0.13796812362493352,\n",
       " 0.1355595606438657,\n",
       " 0.13346730329571888,\n",
       " 0.1316082256271484,\n",
       " 0.1296699786439855,\n",
       " 0.12765034031360709,\n",
       " 0.12629226741004498,\n",
       " 0.124051322835557,\n",
       " 0.12244488999564597,\n",
       " 0.12087488913155617,\n",
       " 0.11997379322952413,\n",
       " 0.11774784955889621,\n",
       " 0.11630204551397486,\n",
       " 0.1148689293956503,\n",
       " 0.1136635201249985,\n",
       " 0.11193338290173957,\n",
       " 0.11065929245124471,\n",
       " 0.10938418727922947,\n",
       " 0.10811964528674775,\n",
       " 0.10698817469021107,\n",
       " 0.1057305819969228,\n",
       " 0.10465746377693846,\n",
       " 0.10337550316719299,\n",
       " 0.10226654308907529,\n",
       " 0.10136138494027422,\n",
       " 0.10023041949310202,\n",
       " 0.09949017832887934,\n",
       " 0.09819857459119026,\n",
       " 0.0971669928666125,\n",
       " 0.09649966436814754,\n",
       " 0.0952706979627305,\n",
       " 0.09433448598422903,\n",
       " 0.09344263918539311,\n",
       " 0.092729659188301,\n",
       " 0.09195609309888901,\n",
       " 0.09102219531827785,\n",
       " 0.09029609746438391,\n",
       " 0.0896095207396974,\n",
       " 0.08873260311306791,\n",
       " 0.08801676286978924,\n",
       " 0.08723825026065746,\n",
       " 0.08640003381891453,\n",
       " 0.08576742879887844,\n",
       " 0.08506009921114495,\n",
       " 0.08439279526789138,\n",
       " 0.08375378208274536,\n",
       " 0.08314903533839164,\n",
       " 0.08267615331297225,\n",
       " 0.0820229617522118,\n",
       " 0.08129332948555337,\n",
       " 0.08091564891820258,\n",
       " 0.08004711227531129,\n",
       " 0.0795618898532492]"
      ]
     },
     "execution_count": 32,
     "metadata": {},
     "output_type": "execute_result"
    }
   ],
   "source": [
    "loss"
   ]
  },
  {
   "cell_type": "code",
   "execution_count": 16,
   "id": "906261c7-b7fe-4bac-83e0-3bb75a8922cc",
   "metadata": {},
   "outputs": [],
   "source": [
    "from models.mnist_classifier.lenet import LeNet5, LeNet1\n",
    "import torch\n",
    "from torch import nn\n",
    "from torchvision import datasets, transforms\n",
    "from torch.utils.data import Dataset, DataLoader\n",
    "from torchinfo import summary\n",
    "from tqdm import tqdm\n",
    "import matplotlib.pyplot as plt\n",
    " \n",
    "# 加载数据集\n",
    "train_dataset = datasets.MNIST(root='./autodl-tmp/mnist', train=True, transform=transforms.ToTensor(), download=False)\n",
    "test_dataset = datasets.MNIST(root='./autodl-tmp/mnist', train=False, transform=transforms.ToTensor(), download=False)\n",
    "train_dataloader = DataLoader(train_dataset, batch_size=256, shuffle=True)\n",
    "test_dataloader = DataLoader(test_dataset, batch_size=256, shuffle=False)"
   ]
  },
  {
   "cell_type": "code",
   "execution_count": 17,
   "id": "cef292d3-ee5e-40e8-b6b8-10937ddee66c",
   "metadata": {},
   "outputs": [],
   "source": [
    "# 定义网络结构\n",
    "class LeNet(nn.Module):\n",
    "    def __init__(self, in_channel, out_channel):\n",
    "        super().__init__()\n",
    "        self.conv1 = nn.Conv2d(in_channel, 6, kernel_size=5, padding=2)\n",
    "        self.avgpool1 = nn.AvgPool2d(kernel_size=2, stride=2)\n",
    "        self.conv2 = nn.Conv2d(6, 16, kernel_size=5)\n",
    "        self.avgpool2 = nn.AvgPool2d(kernel_size=2, stride=2)\n",
    "        self.flatten = nn.Flatten()\n",
    "        self.linear1 = nn.Linear(400, 120)\n",
    "        self.linear2 = nn.Linear(120, 84)\n",
    "        self.linear3 = nn.Linear(84, out_channel)\n",
    "        self.sigmoid = nn.Sigmoid()\n",
    "        self.relu = nn.ReLU()\n",
    "        \n",
    "    def forward(self, x):\n",
    "        h1 = self.relu(self.conv1(x))\n",
    "        h2 = self.avgpool1(h1)\n",
    "        h3 = self.relu(self.conv2(h2))\n",
    "        h4 = self.avgpool2(h3)\n",
    "        h5 = self.relu(self.linear1(self.flatten(h4)))\n",
    "        h6 = self.relu(self.linear2(h5))\n",
    "        h7 = self.linear3(h6)\n",
    "        return h7"
   ]
  },
  {
   "cell_type": "code",
   "execution_count": 18,
   "id": "9377d549-ee0c-4902-bf76-a71892e1bef6",
   "metadata": {},
   "outputs": [
    {
     "name": "stderr",
     "output_type": "stream",
     "text": [
      "100%|██████████| 235/235 [00:04<00:00, 48.86it/s]\n"
     ]
    },
    {
     "name": "stdout",
     "output_type": "stream",
     "text": [
      "epoch:0, train_loss:1.7331313171285263, train_acc:0.5444166666666667\n"
     ]
    },
    {
     "name": "stderr",
     "output_type": "stream",
     "text": [
      "100%|██████████| 40/40 [00:00<00:00, 53.93it/s]\n"
     ]
    },
    {
     "name": "stdout",
     "output_type": "stream",
     "text": [
      "test_loss:0.7761695556342602, test_acc:0.7885\n"
     ]
    },
    {
     "name": "stderr",
     "output_type": "stream",
     "text": [
      "100%|██████████| 235/235 [00:04<00:00, 47.78it/s]\n"
     ]
    },
    {
     "name": "stdout",
     "output_type": "stream",
     "text": [
      "epoch:1, train_loss:0.6065840557534644, train_acc:0.8222666666666667\n"
     ]
    },
    {
     "name": "stderr",
     "output_type": "stream",
     "text": [
      "100%|██████████| 40/40 [00:00<00:00, 54.80it/s]\n"
     ]
    },
    {
     "name": "stdout",
     "output_type": "stream",
     "text": [
      "test_loss:0.48024301752448084, test_acc:0.859\n"
     ]
    },
    {
     "name": "stderr",
     "output_type": "stream",
     "text": [
      "100%|██████████| 235/235 [00:04<00:00, 50.24it/s]\n"
     ]
    },
    {
     "name": "stdout",
     "output_type": "stream",
     "text": [
      "epoch:2, train_loss:0.459442330294467, train_acc:0.8651166666666666\n"
     ]
    },
    {
     "name": "stderr",
     "output_type": "stream",
     "text": [
      "100%|██████████| 40/40 [00:00<00:00, 56.75it/s]\n"
     ]
    },
    {
     "name": "stdout",
     "output_type": "stream",
     "text": [
      "test_loss:0.401952818967402, test_acc:0.8827\n"
     ]
    },
    {
     "name": "stderr",
     "output_type": "stream",
     "text": [
      "100%|██████████| 235/235 [00:04<00:00, 48.21it/s]\n"
     ]
    },
    {
     "name": "stdout",
     "output_type": "stream",
     "text": [
      "epoch:3, train_loss:0.3939485376185559, train_acc:0.884\n"
     ]
    },
    {
     "name": "stderr",
     "output_type": "stream",
     "text": [
      "100%|██████████| 40/40 [00:00<00:00, 56.51it/s]\n"
     ]
    },
    {
     "name": "stdout",
     "output_type": "stream",
     "text": [
      "test_loss:0.35894947005435823, test_acc:0.8933\n"
     ]
    },
    {
     "name": "stderr",
     "output_type": "stream",
     "text": [
      "100%|██████████| 235/235 [00:04<00:00, 49.04it/s]\n"
     ]
    },
    {
     "name": "stdout",
     "output_type": "stream",
     "text": [
      "epoch:4, train_loss:0.34973269770754145, train_acc:0.89655\n"
     ]
    },
    {
     "name": "stderr",
     "output_type": "stream",
     "text": [
      "100%|██████████| 40/40 [00:00<00:00, 55.90it/s]\n"
     ]
    },
    {
     "name": "stdout",
     "output_type": "stream",
     "text": [
      "test_loss:0.3167864385060966, test_acc:0.9079\n"
     ]
    },
    {
     "name": "stderr",
     "output_type": "stream",
     "text": [
      "100%|██████████| 235/235 [00:04<00:00, 49.27it/s]\n"
     ]
    },
    {
     "name": "stdout",
     "output_type": "stream",
     "text": [
      "epoch:5, train_loss:0.3149649341689779, train_acc:0.90665\n"
     ]
    },
    {
     "name": "stderr",
     "output_type": "stream",
     "text": [
      "100%|██████████| 40/40 [00:00<00:00, 56.23it/s]\n"
     ]
    },
    {
     "name": "stdout",
     "output_type": "stream",
     "text": [
      "test_loss:0.28234746064990757, test_acc:0.9165\n"
     ]
    },
    {
     "name": "stderr",
     "output_type": "stream",
     "text": [
      "100%|██████████| 235/235 [00:04<00:00, 48.03it/s]\n"
     ]
    },
    {
     "name": "stdout",
     "output_type": "stream",
     "text": [
      "epoch:6, train_loss:0.2877510447451409, train_acc:0.9141166666666667\n"
     ]
    },
    {
     "name": "stderr",
     "output_type": "stream",
     "text": [
      "100%|██████████| 40/40 [00:00<00:00, 56.53it/s]\n"
     ]
    },
    {
     "name": "stdout",
     "output_type": "stream",
     "text": [
      "test_loss:0.2575010961387306, test_acc:0.9239\n"
     ]
    },
    {
     "name": "stderr",
     "output_type": "stream",
     "text": [
      "100%|██████████| 235/235 [00:04<00:00, 48.92it/s]\n"
     ]
    },
    {
     "name": "stdout",
     "output_type": "stream",
     "text": [
      "epoch:7, train_loss:0.2636949787748621, train_acc:0.9204666666666667\n"
     ]
    },
    {
     "name": "stderr",
     "output_type": "stream",
     "text": [
      "100%|██████████| 40/40 [00:00<00:00, 52.85it/s]\n"
     ]
    },
    {
     "name": "stdout",
     "output_type": "stream",
     "text": [
      "test_loss:0.23183038849383591, test_acc:0.9288\n"
     ]
    },
    {
     "name": "stderr",
     "output_type": "stream",
     "text": [
      "100%|██████████| 235/235 [00:04<00:00, 48.20it/s]\n"
     ]
    },
    {
     "name": "stdout",
     "output_type": "stream",
     "text": [
      "epoch:8, train_loss:0.24197583762889213, train_acc:0.9275166666666667\n"
     ]
    },
    {
     "name": "stderr",
     "output_type": "stream",
     "text": [
      "100%|██████████| 40/40 [00:00<00:00, 56.71it/s]\n"
     ]
    },
    {
     "name": "stdout",
     "output_type": "stream",
     "text": [
      "test_loss:0.21056975671090186, test_acc:0.9346\n"
     ]
    },
    {
     "name": "stderr",
     "output_type": "stream",
     "text": [
      "100%|██████████| 235/235 [00:04<00:00, 49.82it/s]\n"
     ]
    },
    {
     "name": "stdout",
     "output_type": "stream",
     "text": [
      "epoch:9, train_loss:0.22178756651726175, train_acc:0.9326333333333333\n"
     ]
    },
    {
     "name": "stderr",
     "output_type": "stream",
     "text": [
      "100%|██████████| 40/40 [00:00<00:00, 56.97it/s]\n"
     ]
    },
    {
     "name": "stdout",
     "output_type": "stream",
     "text": [
      "test_loss:0.1960402879398316, test_acc:0.942\n"
     ]
    },
    {
     "name": "stderr",
     "output_type": "stream",
     "text": [
      "100%|██████████| 235/235 [00:04<00:00, 49.89it/s]\n"
     ]
    },
    {
     "name": "stdout",
     "output_type": "stream",
     "text": [
      "epoch:10, train_loss:0.20489905945798184, train_acc:0.9384166666666667\n"
     ]
    },
    {
     "name": "stderr",
     "output_type": "stream",
     "text": [
      "100%|██████████| 40/40 [00:00<00:00, 57.47it/s]\n"
     ]
    },
    {
     "name": "stdout",
     "output_type": "stream",
     "text": [
      "test_loss:0.1766570304520428, test_acc:0.9479\n"
     ]
    },
    {
     "name": "stderr",
     "output_type": "stream",
     "text": [
      "100%|██████████| 235/235 [00:04<00:00, 48.31it/s]\n"
     ]
    },
    {
     "name": "stdout",
     "output_type": "stream",
     "text": [
      "epoch:11, train_loss:0.18997144439118974, train_acc:0.94245\n"
     ]
    },
    {
     "name": "stderr",
     "output_type": "stream",
     "text": [
      "100%|██████████| 40/40 [00:00<00:00, 54.74it/s]\n"
     ]
    },
    {
     "name": "stdout",
     "output_type": "stream",
     "text": [
      "test_loss:0.16610681340098382, test_acc:0.9513\n"
     ]
    },
    {
     "name": "stderr",
     "output_type": "stream",
     "text": [
      "100%|██████████| 235/235 [00:04<00:00, 48.65it/s]\n"
     ]
    },
    {
     "name": "stdout",
     "output_type": "stream",
     "text": [
      "epoch:12, train_loss:0.1760029307705291, train_acc:0.94685\n"
     ]
    },
    {
     "name": "stderr",
     "output_type": "stream",
     "text": [
      "100%|██████████| 40/40 [00:00<00:00, 56.58it/s]\n"
     ]
    },
    {
     "name": "stdout",
     "output_type": "stream",
     "text": [
      "test_loss:0.1550240797922015, test_acc:0.955\n"
     ]
    },
    {
     "name": "stderr",
     "output_type": "stream",
     "text": [
      "100%|██████████| 235/235 [00:04<00:00, 49.70it/s]\n"
     ]
    },
    {
     "name": "stdout",
     "output_type": "stream",
     "text": [
      "epoch:13, train_loss:0.16345664262771606, train_acc:0.9505333333333333\n"
     ]
    },
    {
     "name": "stderr",
     "output_type": "stream",
     "text": [
      "100%|██████████| 40/40 [00:00<00:00, 58.18it/s]\n"
     ]
    },
    {
     "name": "stdout",
     "output_type": "stream",
     "text": [
      "test_loss:0.1454039342235774, test_acc:0.9578\n"
     ]
    },
    {
     "name": "stderr",
     "output_type": "stream",
     "text": [
      "100%|██████████| 235/235 [00:04<00:00, 49.26it/s]\n"
     ]
    },
    {
     "name": "stdout",
     "output_type": "stream",
     "text": [
      "epoch:14, train_loss:0.152985421710826, train_acc:0.9540166666666666\n"
     ]
    },
    {
     "name": "stderr",
     "output_type": "stream",
     "text": [
      "100%|██████████| 40/40 [00:00<00:00, 54.32it/s]\n"
     ]
    },
    {
     "name": "stdout",
     "output_type": "stream",
     "text": [
      "test_loss:0.13280494243372232, test_acc:0.9606\n"
     ]
    },
    {
     "name": "stderr",
     "output_type": "stream",
     "text": [
      "100%|██████████| 235/235 [00:04<00:00, 48.92it/s]\n"
     ]
    },
    {
     "name": "stdout",
     "output_type": "stream",
     "text": [
      "epoch:15, train_loss:0.14404338314495188, train_acc:0.9569666666666666\n"
     ]
    },
    {
     "name": "stderr",
     "output_type": "stream",
     "text": [
      "100%|██████████| 40/40 [00:00<00:00, 55.61it/s]\n"
     ]
    },
    {
     "name": "stdout",
     "output_type": "stream",
     "text": [
      "test_loss:0.12336727832444012, test_acc:0.9629\n"
     ]
    },
    {
     "name": "stderr",
     "output_type": "stream",
     "text": [
      "100%|██████████| 235/235 [00:04<00:00, 48.04it/s]\n"
     ]
    },
    {
     "name": "stdout",
     "output_type": "stream",
     "text": [
      "epoch:16, train_loss:0.13539149705716905, train_acc:0.9585166666666667\n"
     ]
    },
    {
     "name": "stderr",
     "output_type": "stream",
     "text": [
      "100%|██████████| 40/40 [00:00<00:00, 56.26it/s]\n"
     ]
    },
    {
     "name": "stdout",
     "output_type": "stream",
     "text": [
      "test_loss:0.11874700302723795, test_acc:0.9652\n"
     ]
    },
    {
     "name": "stderr",
     "output_type": "stream",
     "text": [
      "100%|██████████| 235/235 [00:04<00:00, 49.35it/s]\n"
     ]
    },
    {
     "name": "stdout",
     "output_type": "stream",
     "text": [
      "epoch:17, train_loss:0.12729811352935244, train_acc:0.9613666666666667\n"
     ]
    },
    {
     "name": "stderr",
     "output_type": "stream",
     "text": [
      "100%|██████████| 40/40 [00:00<00:00, 56.04it/s]\n"
     ]
    },
    {
     "name": "stdout",
     "output_type": "stream",
     "text": [
      "test_loss:0.11633580676279962, test_acc:0.9669\n"
     ]
    },
    {
     "name": "stderr",
     "output_type": "stream",
     "text": [
      "100%|██████████| 235/235 [00:04<00:00, 49.14it/s]\n"
     ]
    },
    {
     "name": "stdout",
     "output_type": "stream",
     "text": [
      "epoch:18, train_loss:0.12095011009814892, train_acc:0.96325\n"
     ]
    },
    {
     "name": "stderr",
     "output_type": "stream",
     "text": [
      "100%|██████████| 40/40 [00:00<00:00, 56.34it/s]\n"
     ]
    },
    {
     "name": "stdout",
     "output_type": "stream",
     "text": [
      "test_loss:0.10109897368820384, test_acc:0.9705\n"
     ]
    },
    {
     "name": "stderr",
     "output_type": "stream",
     "text": [
      "100%|██████████| 235/235 [00:04<00:00, 48.82it/s]\n"
     ]
    },
    {
     "name": "stdout",
     "output_type": "stream",
     "text": [
      "epoch:19, train_loss:0.11501996330124267, train_acc:0.96465\n"
     ]
    },
    {
     "name": "stderr",
     "output_type": "stream",
     "text": [
      "100%|██████████| 40/40 [00:00<00:00, 57.56it/s]\n"
     ]
    },
    {
     "name": "stdout",
     "output_type": "stream",
     "text": [
      "test_loss:0.10057370872236789, test_acc:0.97\n"
     ]
    },
    {
     "data": {
      "image/png": "[encoded data removed]",
      "text/plain": [
       "<Figure size 432x288 with 1 Axes>"
      ]
     },
     "metadata": {
      "needs_background": "light"
     },
     "output_type": "display_data"
    }
   ],
   "source": [
    "device = \"cuda:0\" if torch.cuda.is_available() else \"cpu\"\n",
    "lenet = LeNet(1, 10).to(device)\n",
    "# 定义超参数\n",
    "epochs = 20\n",
    "lr = 1e-4\n",
    "# 定义优化器\n",
    "optimizer = torch.optim.Adam(lenet.parameters(), lr=lr)\n",
    "# 定义损失函数\n",
    "loss_fn = nn.CrossEntropyLoss()\n",
    " \n",
    "# 训练\n",
    "train_acc_list = []\n",
    "test_acc_list = []\n",
    "train_loss_list = []\n",
    "for epoch in range(epochs):\n",
    "    train_loss_epoch = []\n",
    "    acc = 0\n",
    "    for train_data, labels in tqdm(train_dataloader):\n",
    "        # train_data.shape: bt * 1 * 28 * 28\n",
    "        train_data = train_data.to(device)\n",
    "        labels = labels.to(device)\n",
    "        y_hat = lenet(train_data)\n",
    "        train_loss = loss_fn(y_hat, labels)\n",
    "        optimizer.zero_grad()\n",
    "        train_loss.backward()\n",
    "        optimizer.step()\n",
    "        \n",
    "        train_loss_epoch.append(train_loss.cpu().detach().numpy())\n",
    "        right = torch.argmax(y_hat, 1) == labels \n",
    "        acc += right.sum().cpu().detach().numpy()\n",
    "    acc = acc / len(train_dataset)\n",
    "    train_acc_list.append(acc)\n",
    "    train_loss_list.append(sum(train_loss_epoch) / len(train_loss_epoch))\n",
    "    print(f'epoch:{epoch}, train_loss:{sum(train_loss_epoch) / len(train_loss_epoch)}, train_acc:{acc}')\n",
    "    \n",
    "    test_loss_epoch = []\n",
    "    acc = 0\n",
    "    with torch.no_grad():\n",
    "        for test_data, labels in tqdm(test_dataloader):\n",
    "            test_data = test_data.to(device)\n",
    "            labels = labels.to(device)\n",
    "            y_hat = lenet(test_data)\n",
    "            test_loss = loss_fn(y_hat, labels)\n",
    "            test_loss_epoch.append(test_loss.cpu().detach().numpy())\n",
    "            right = torch.argmax(y_hat, 1) == labels \n",
    "            acc += right.sum().cpu().detach().numpy()\n",
    "        acc = acc / len(test_dataset)\n",
    "        test_acc_list.append(acc)\n",
    "        print(f'test_loss:{sum(test_loss_epoch) / len(test_loss_epoch)}, test_acc:{acc}')\n",
    "x = range(epochs)\n",
    "plt.plot(x, train_loss_list, color = 'blue')\n",
    "plt.plot(x, train_acc_list, color='red', linestyle='--')\n",
    "plt.plot(x, test_acc_list, color='green', linestyle='--')\n",
    "plt.show()"
   ]
  },
  {
   "cell_type": "code",
   "execution_count": null,
   "id": "4942d559-b970-4879-bf79-1b814ca90ba9",
   "metadata": {},
   "outputs": [],
   "source": []
  }
 ],
 "metadata": {
  "kernelspec": {
   "display_name": "Python 3 (ipykernel)",
   "language": "python",
   "name": "python3"
  },
  "language_info": {
   "codemirror_mode": {
    "name": "ipython",
    "version": 3
   },
   "file_extension": ".py",
   "mimetype": "text/x-python",
   "name": "python",
   "nbconvert_exporter": "python",
   "pygments_lexer": "ipython3",
   "version": "3.8.10"
  }
 },
 "nbformat": 4,
 "nbformat_minor": 5
}
