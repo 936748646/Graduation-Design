{
 "cells": [
  {
   "cell_type": "code",
   "execution_count": 1,
   "id": "55ee5aac-d429-450a-82c5-0a5008c42501",
   "metadata": {},
   "outputs": [],
   "source": [
    "import torchattacks\n",
    "import torch\n",
    "import torchvision\n",
    "from torchvision.datasets import CIFAR10\n",
    "import torchvision.transforms as transforms\n",
    "from PIL import Image\n",
    "import matplotlib.pyplot as plt\n",
    "from torchcam.methods import GradCAMpp, GradCAM\n",
    "import torchvision.models as models\n",
    "import numpy as np\n",
    "import torch.nn as nn\n",
    "from torch.nn import functional as F\n",
    "from torch.autograd import Variable\n",
    "import os\n",
    "import captum\n",
    "from captum.attr import IntegratedGradients, Occlusion, LayerGradCam, LayerAttribution\n",
    "from captum.attr import visualization as viz\n",
    "os.environ['CUDA_LAUNCH_BLOCKING'] = '1'\n",
    "device = torch.device('cuda:0' if torch.cuda.is_available() else 'cpu')"
   ]
  },
  {
   "cell_type": "code",
   "execution_count": 2,
   "id": "9e0d1366-7b78-422f-b430-bf6b7eb91d14",
   "metadata": {},
   "outputs": [],
   "source": [
    "net = torchvision.models.vgg16(pretrained=False).to(device)\n",
    "net_dir = 'autodl-tmp/save_model/cifar/vgg16/re_epoch=50_test_acc=0.913.pth'\n",
    "net.load_state_dict(torch.load(net_dir))\n",
    "net.eval()\n",
    "net = net.to(device)"
   ]
  },
  {
   "cell_type": "code",
   "execution_count": 3,
   "id": "b8d46ff4-ff05-4677-8acc-10cd6c3907ba",
   "metadata": {},
   "outputs": [],
   "source": [
    "# 将数据集转换为PyTorch张量，并将像素值标准化为范围在0到1之间\n",
    "data_root = './autodl-tmp/cifar-10'\n",
    "cifar10_mean = (0.4914, 0.4822, 0.4465)\n",
    "cifar10_std = (0.2471, 0.2435, 0.2616)\n",
    "# 如果要运行lenet模型，把下面的lambda这行删掉\n",
    "transform = transforms.Compose([\n",
    "    transforms.ToTensor(),\n",
    "    transforms.Normalize(cifar10_mean, cifar10_std)])\n",
    "trainset = CIFAR10(root=data_root, train=True,\n",
    "                 download=False,transform=transform)\n",
    "testset = CIFAR10(root=data_root, train=False,\n",
    "                download=False,transform=transform)\n",
    "trainloader = torch.utils.data.DataLoader(trainset, batch_size=256,\n",
    "                                          shuffle=True, num_workers=8)\n",
    "testloader = torch.utils.data.DataLoader(testset, batch_size=256,\n",
    "                                         shuffle=False, num_workers=8)"
   ]
  },
  {
   "cell_type": "code",
   "execution_count": 4,
   "id": "dd57bd0e-1ba2-4bb6-87fb-957d17cd8169",
   "metadata": {},
   "outputs": [],
   "source": [
    "(ims, labs) = next(iter(testloader))\t# images：Tensor(64,1,28,28)、labels：Tensor(64,)\n",
    "ims = ims.to(device)\n",
    "labs = labs.to(device)"
   ]
  },
  {
   "cell_type": "code",
   "execution_count": 5,
   "id": "4641a79f-7bcb-48da-99fa-7a7cde1a6b4a",
   "metadata": {},
   "outputs": [],
   "source": [
    "labs = labs.cpu().numpy()"
   ]
  },
  {
   "cell_type": "code",
   "execution_count": 6,
   "id": "c11d51e0-9b4a-4e83-83b2-43ed7dccd9c8",
   "metadata": {},
   "outputs": [
    {
     "name": "stdout",
     "output_type": "stream",
     "text": [
      "[3 8 8 0 6 6 1 6 3 1 4 9 5 7 9 8 5 7 8 6 7 2 4 9 4 6 4 0 9 6 6 5 4 5 9 8 4\n",
      " 9 9 5 4 6 7 6 0 9 3 9 7 6 7 8 2 3 8 8 7 5 5 3 7 5 6 3 6 2 1 2 3 7 2 6 8 8\n",
      " 0 2 0 3 3 8 8 9 1 7 2 7 2 3 8 9 0 6 8 6 4 6 6 0 0 7 4 5 6 3 1 1 2 6 8 7 4\n",
      " 0 2 2 1 3 0 4 3 5 8 5 1 2 8 0 8 3 3 2 4 1 8 9 1 2 9 7 6 0 6 5 6 5 8 7 6 5\n",
      " 7 2 8 9 6 0 0 5 2 9 5 4 0 1 5 6 0 4 8 4 7 0 9 7 1 8 9 9 3 7 5 0 0 5 2 6 2\n",
      " 8 6 2 3 8 5 8 9 1 7 3 8 8 7 8 5 9 8 7 1 3 0 5 7 9 5 0 3 7 8 2 7 9 0 2 7 6\n",
      " 9 5 3 9 4 4 3 2 5 1 3 8 8 0 4 0 3 5 1 1 8 9 0 2 1 8 2 2 5 3 9 9 2 0]\n",
      "test acc 0.7734375\n"
     ]
    }
   ],
   "source": [
    "# 计算预训练模型acc\n",
    "preds = net(ims).cpu().detach().numpy()\n",
    "class_preds = np.argmax(preds, axis=1)\n",
    "print(class_preds)\n",
    "print('test acc', np.sum(class_preds == labs) / 256)"
   ]
  },
  {
   "cell_type": "code",
   "execution_count": 7,
   "id": "5d2fae50-8af6-46dc-857d-d8faa1421123",
   "metadata": {},
   "outputs": [],
   "source": [
    "loaders_scratch = {'train': trainloader, 'test': testloader}\n",
    "X, Y = iter(loaders_scratch['test']).next()\n",
    "X, Y = X.to(device), Y.to(device)\n",
    "Y_logits = net(X)\n",
    "Y_probs = F.softmax(Y_logits, dim=-1)\n",
    "Y_preds = Y_probs.argmax(axis=-1)"
   ]
  },
  {
   "cell_type": "code",
   "execution_count": 8,
   "id": "1fee5e17-f469-449a-9662-1e03e4b4660c",
   "metadata": {},
   "outputs": [
    {
     "name": "stderr",
     "output_type": "stream",
     "text": [
      "Clipping input data to the valid range for imshow with RGB data ([0..1] for floats or [0..255] for integers).\n"
     ]
    },
    {
     "data": {
      "image/png": "[encoded data removed]",
      "text/plain": [
       "<Figure size 432x288 with 1 Axes>"
      ]
     },
     "metadata": {
      "needs_background": "light"
     },
     "output_type": "display_data"
    }
   ],
   "source": [
    "# 你下次打开肯定忘了：这里X是图像，Y是对应的标签，一共10000张。X[1:2][0]是(1,32,32)的一张图\n",
    "orig_image = X[1:2][0].cpu().numpy().transpose(1, 2, 0)  # 交换通道\n",
    "orig_image = orig_image * cifar10_std + cifar10_mean\n",
    "plt.imshow(orig_image)\n",
    "plt.show()"
   ]
  },
  {
   "cell_type": "code",
   "execution_count": 9,
   "id": "0b4d1d53-ac61-442e-93cb-bee8cb834a06",
   "metadata": {},
   "outputs": [
    {
     "name": "stdout",
     "output_type": "stream",
     "text": [
      "8\n"
     ]
    }
   ],
   "source": [
    "img_tensor = torch.unsqueeze(ims[1], dim=0).float()\n",
    "img_variable = Variable(img_tensor, requires_grad=True)\n",
    "output = net.forward(img_variable)\n",
    "label_idx = int(torch.max(output.data, 1)[1][0])   #get an index(class number) of a largest element\n",
    "print(label_idx)"
   ]
  },
  {
   "cell_type": "code",
   "execution_count": 10,
   "id": "bf5a2d59-24b7-4980-8f16-9883165f350f",
   "metadata": {},
   "outputs": [
    {
     "name": "stdout",
     "output_type": "stream",
     "text": [
      "Bag\n"
     ]
    }
   ],
   "source": [
    "mnist_labels = [0, 1, 2, 3, 4, 5, 6, 7, 8, 9]\n",
    "fashion_labels = ['T-shirt/top', 'Trouser', 'Pullover', 'Dress', 'Coat',\n",
    "               'Sandal', 'Shirt', 'Sneaker', 'Bag', 'Ankle boot']\n",
    "x_pred = fashion_labels[label_idx]\n",
    "print(x_pred)"
   ]
  },
  {
   "cell_type": "code",
   "execution_count": 11,
   "id": "8f4967d1-9c9f-4886-8ba8-0f5ffd126971",
   "metadata": {},
   "outputs": [
    {
     "name": "stdout",
     "output_type": "stream",
     "text": [
      "tensor([8])\n"
     ]
    }
   ],
   "source": [
    "# PGD\n",
    "y_true = 8   #change this if you change input image\n",
    "target = Variable(torch.LongTensor([y_true]), requires_grad=False)\n",
    "print(target)"
   ]
  },
  {
   "cell_type": "code",
   "execution_count": 12,
   "id": "461c95a3-7356-4600-a439-b6f2b30a9d91",
   "metadata": {},
   "outputs": [],
   "source": [
    "# 将图像tensor归一化到0-1中\n",
    "img_tensor = img_tensor.cpu()\n",
    "min_val = torch.min(img_tensor)\n",
    "max_val = torch.max(img_tensor)\n",
    "img_tensor_normalized = (img_tensor - min_val) / (max_val - min_val)"
   ]
  },
  {
   "cell_type": "code",
   "execution_count": 13,
   "id": "66c77c03-4fca-44ef-a792-1bcd60457e99",
   "metadata": {},
   "outputs": [],
   "source": [
    "eps = [0.01, 0.05, 0.1, 0.2, 0.3, 0.4, 0.5, 0.6, 0.7, 0.8]\n",
    "attack = torchattacks.PGD(net, eps=eps[3])\n",
    "# perturbed_data = (torchattacks.BIM(model, epsilon, 0.2, steps=4))\n",
    "perturbed_data = attack(img_tensor_normalized, target)"
   ]
  },
  {
   "cell_type": "code",
   "execution_count": 14,
   "id": "e2619672-7da3-41e7-ad5f-18551cdd7ab0",
   "metadata": {},
   "outputs": [],
   "source": [
    "perturbed_data = perturbed_data.cpu()\n",
    "noise = perturbed_data - img_tensor_normalized"
   ]
  },
  {
   "cell_type": "code",
   "execution_count": 15,
   "id": "017c6c5d-0af8-4e8a-90fa-482434e86692",
   "metadata": {},
   "outputs": [],
   "source": [
    "# 去标准化\n",
    "perturbed_data = perturbed_data * (max_val - min_val) + min_val"
   ]
  },
  {
   "cell_type": "code",
   "execution_count": 16,
   "id": "1f2efb73-408d-463e-8756-7618c415eeb0",
   "metadata": {},
   "outputs": [
    {
     "name": "stderr",
     "output_type": "stream",
     "text": [
      "Clipping input data to the valid range for imshow with RGB data ([0..1] for floats or [0..255] for integers).\n"
     ]
    },
    {
     "data": {
      "image/png": "[encoded data removed]",
      "text/plain": [
       "<Figure size 432x288 with 1 Axes>"
      ]
     },
     "metadata": {
      "needs_background": "light"
     },
     "output_type": "display_data"
    }
   ],
   "source": [
    "adv_image = perturbed_data[0].cpu().numpy().transpose(1, 2, 0)  # 交换通道\n",
    "adv_image = adv_image * cifar10_std + cifar10_mean\n",
    "plt.imshow(adv_image)\n",
    "plt.show()"
   ]
  },
  {
   "cell_type": "code",
   "execution_count": 17,
   "id": "05d96da3-fa1a-4e17-bc2c-79a6dc876ca5",
   "metadata": {},
   "outputs": [],
   "source": [
    "noise = noise * (max_val - min_val) + min_val"
   ]
  },
  {
   "cell_type": "code",
   "execution_count": 18,
   "id": "a49598d8-43f1-47a5-8bcf-93c5b89b86fa",
   "metadata": {},
   "outputs": [
    {
     "name": "stderr",
     "output_type": "stream",
     "text": [
      "Clipping input data to the valid range for imshow with RGB data ([0..1] for floats or [0..255] for integers).\n"
     ]
    },
    {
     "data": {
      "image/png": "[encoded data removed]",
      "text/plain": [
       "<Figure size 432x288 with 1 Axes>"
      ]
     },
     "metadata": {
      "needs_background": "light"
     },
     "output_type": "display_data"
    }
   ],
   "source": [
    "noise_map = noise[0].cpu().numpy().transpose(1, 2, 0)  # 交换通道\n",
    "adv_image = adv_image * cifar10_std + cifar10_mean\n",
    "plt.imshow(noise_map)\n",
    "plt.show()"
   ]
  },
  {
   "cell_type": "code",
   "execution_count": 19,
   "id": "d8b7de05-a748-4a87-ae04-edcfe1b3b679",
   "metadata": {},
   "outputs": [],
   "source": [
    "# 计算图像质量指标\n",
    "import pytorch_ssim\n",
    "\n",
    "def psnr(img1, img2):\n",
    "    img1 = img1.cpu()\n",
    "    img2 = img2.cpu()\n",
    "    mse = F.mse_loss(img1.float(), img2.float())\n",
    "    psnr = 10 * torch.log10(1/mse)\n",
    "    return psnr\n",
    "\n",
    "def mse(img1, img2):\n",
    "    img1 = img1.cpu()\n",
    "    img2 = img2.cpu()\n",
    "    mse = F.mse_loss(img1.float(), img2.float())\n",
    "    return mse\n",
    "\n",
    "def ssim(img1, img2):\n",
    "    img1 = img1.cpu()\n",
    "    img2 = img2.cpu()\n",
    "    ssim = pytorch_ssim.ssim(img1.float(), img2.float())\n",
    "    return ssim"
   ]
  },
  {
   "cell_type": "code",
   "execution_count": 20,
   "id": "0b22bac8-124a-40bd-83a3-291cab878040",
   "metadata": {},
   "outputs": [
    {
     "data": {
      "text/plain": [
       "0.20122091472148895"
      ]
     },
     "execution_count": 20,
     "metadata": {},
     "output_type": "execute_result"
    }
   ],
   "source": [
    "mse(perturbed_data, X[1:2]).item()"
   ]
  },
  {
   "cell_type": "code",
   "execution_count": 21,
   "id": "ec348b5b-da8d-421c-b4f6-199da463cd0d",
   "metadata": {},
   "outputs": [
    {
     "data": {
      "text/plain": [
       "0.6442658305168152"
      ]
     },
     "execution_count": 21,
     "metadata": {},
     "output_type": "execute_result"
    }
   ],
   "source": [
    "ssim(X[1:2], perturbed_data).item()"
   ]
  },
  {
   "cell_type": "code",
   "execution_count": 22,
   "id": "8e718c81-0d85-48b7-ad19-d36f07f90b82",
   "metadata": {},
   "outputs": [
    {
     "data": {
      "text/plain": [
       "6.963268280029297"
      ]
     },
     "execution_count": 22,
     "metadata": {},
     "output_type": "execute_result"
    }
   ],
   "source": [
    "psnr(perturbed_data, X[1:2]).item()"
   ]
  },
  {
   "cell_type": "code",
   "execution_count": null,
   "id": "5f0e7c13-ce8c-42b3-b621-717a70c7380c",
   "metadata": {},
   "outputs": [],
   "source": []
  }
 ],
 "metadata": {
  "kernelspec": {
   "display_name": "Python 3 (ipykernel)",
   "language": "python",
   "name": "python3"
  },
  "language_info": {
   "codemirror_mode": {
    "name": "ipython",
    "version": 3
   },
   "file_extension": ".py",
   "mimetype": "text/x-python",
   "name": "python",
   "nbconvert_exporter": "python",
   "pygments_lexer": "ipython3",
   "version": "3.8.10"
  }
 },
 "nbformat": 4,
 "nbformat_minor": 5
}
